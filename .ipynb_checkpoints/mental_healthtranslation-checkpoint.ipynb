{
 "cells": [
  {
   "cell_type": "code",
   "execution_count": 2,
   "id": "51d01e01",
   "metadata": {},
   "outputs": [
    {
     "name": "stderr",
     "output_type": "stream",
     "text": [
      "c:\\Users\\Latifa Riziki\\anaconda3\\Lib\\site-packages\\transformers\\models\\marian\\tokenization_marian.py:175: UserWarning: Recommended: pip install sacremoses.\n",
      "  warnings.warn(\"Recommended: pip install sacremoses.\")\n",
      "100%|██████████| 103488/103488 [57:57:42<00:00,  2.02s/it]   \n"
     ]
    },
    {
     "name": "stdout",
     "output_type": "stream",
     "text": [
      "✅ Translation complete! Saved as translated_dataset.csv\n"
     ]
    }
   ],
   "source": [
    "import pandas as pd\n",
    "from transformers import MarianMTModel, MarianTokenizer\n",
    "from tqdm import tqdm\n",
    "\n",
    "# 1. Load your dataset\n",
    "df = pd.read_excel(\"mental_health.xlsx\")\n",
    "\n",
    "# 2. Load translation model (English → Swahili)\n",
    "model_name = 'Helsinki-NLP/opus-mt-en-sw'\n",
    "tokenizer = MarianTokenizer.from_pretrained(model_name)\n",
    "model = MarianMTModel.from_pretrained(model_name)\n",
    "\n",
    "# 3. Translate function\n",
    "def translate_text(text):\n",
    "    if pd.isna(text):\n",
    "        return \"\"\n",
    "    inputs = tokenizer([text], return_tensors=\"pt\", padding=True, truncation=True)\n",
    "    translated = model.generate(**inputs)\n",
    "    return tokenizer.decode(translated[0], skip_special_tokens=True)\n",
    "\n",
    "# 4. Apply translation to text column\n",
    "tqdm.pandas()\n",
    "df[\"text_sw\"] = df[\"text\"].progress_apply(translate_text)\n",
    "\n",
    "# 5. Save to new CSV\n",
    "df.to_csv(\"translated_dataset.csv\", index=False)\n",
    "print(\"✅ Translation complete! Saved as translated_dataset.csv\")\n"
   ]
  },
  {
   "cell_type": "markdown",
   "id": "5a7f879c",
   "metadata": {},
   "source": [
    "## **Adding the Swahili Feature to our Dataset**"
   ]
  },
  {
   "cell_type": "markdown",
   "id": "a554c7f2",
   "metadata": {},
   "source": [
    "Our dataset contained a large number of rows i.e 100k rows, so we decided to have a separate notebook for translation. For this notebook we translated around 18k rows into swahili language."
   ]
  },
  {
   "cell_type": "markdown",
   "id": "29b0e9a8",
   "metadata": {},
   "source": [
    "Steps:\n",
    "1. Pip install required dependecies these include:\n",
    "   * transformers\n",
    "   * sentencepiece\n",
    "   * torch\n",
    "   * huggingface_hub[hf_xet]\n",
    "2. Create a dataframe with number of rows you would prefer. For this notebook we translated 18k rows from our original dataset."
   ]
  }
 ],
 "metadata": {
  "kernelspec": {
   "display_name": "base",
   "language": "python",
   "name": "python3"
  },
  "language_info": {
   "codemirror_mode": {
    "name": "ipython",
    "version": 3
   },
   "file_extension": ".py",
   "mimetype": "text/x-python",
   "name": "python",
   "nbconvert_exporter": "python",
   "pygments_lexer": "ipython3",
   "version": "3.12.7"
  }
 },
 "nbformat": 4,
 "nbformat_minor": 5
}
