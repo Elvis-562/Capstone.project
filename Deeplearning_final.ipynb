{
 "cells": [
  {
   "cell_type": "markdown",
   "id": "d6e11c97-a24a-4b19-b708-e1713124fb75",
   "metadata": {},
   "source": [
    "## 4.2 **Modeling Section with Deep Learning**"
   ]
  },
  {
   "cell_type": "markdown",
   "id": "8f6a5ed6-b671-44b9-9679-45c05f28a664",
   "metadata": {},
   "source": [
    "For the deep learning approach we will make use of the **Roberta model** (short for Robustly Optimized BERT Pretraining Approach) which is a transformer model. It's an optimized version of **BERT** that is designed to understand and interpret human language in a way that is more accurate and efficient. "
   ]
  },
  {
   "cell_type": "markdown",
   "id": "ec26c2fd-e9ee-48ba-adc8-3b66fed1c618",
   "metadata": {},
   "source": [
    "The Roberta model is best used with a large dataset making it useful for our dataset with 100k rows."
   ]
  },
  {
   "cell_type": "markdown",
   "id": "407f4841-c45d-439e-869b-13c28b2b6bac",
   "metadata": {},
   "source": [
    "Steps:\n",
    "1. Importing necessary dependencies\n",
    "2. Loading the dataset and cleaning\n",
    "3. Turning text data into numbers(label encoding)\n",
    "4. Splitting the dataset into train, validation and test.\n",
    "5. Loading the Roberta tokenizer.\n",
    "6. Tokenizing the text data.\n",
    "7. Loading the Roberta model for Classification.\n",
    "8. Defining how we measure success using Accuracy score.\n",
    "9. Setting up training instructions.\n",
    "10. Building the trainer.\n",
    "11. Training the model.\n",
    "12. Visualizing the training, validation accuracy, and loss.\n",
    "13. Save the model."
   ]
  },
  {
   "cell_type": "code",
   "execution_count": 1,
   "id": "6743438a-9dfe-41c9-9fe3-d955fc09016a",
   "metadata": {},
   "outputs": [],
   "source": [
    "#!pip install transformers[torch] accelerate datasets"
   ]
  },
  {
   "cell_type": "markdown",
   "id": "a6c14632-33ff-41ad-ad9b-bfc1d868c79a",
   "metadata": {},
   "source": [
    "### 4.2.1 Importing Dependencies"
   ]
  },
  {
   "cell_type": "code",
   "execution_count": 2,
   "id": "8242e894-c101-4762-90d2-6161be9eff5b",
   "metadata": {},
   "outputs": [],
   "source": [
    "import pandas as pd\n",
    "import numpy as np \n",
    "import warnings\n",
    "warnings.filterwarnings('ignore')\n",
    "import matplotlib.pyplot as plt\n",
    "from transformers import RobertaTokenizer, RobertaForSequenceClassification, Trainer, TrainingArguments\n",
    "from sklearn.preprocessing import LabelEncoder\n",
    "from sklearn.model_selection import train_test_split\n",
    "from sklearn.metrics import accuracy_score\n",
    "from datasets import Dataset\n",
    "import joblib\n",
    "import pickle"
   ]
  },
  {
   "cell_type": "markdown",
   "id": "01e313a3-aa38-4569-95e3-a97dab00d852",
   "metadata": {},
   "source": [
    "### 4.2.2 Loading the dataset and cleaning"
   ]
  },
  {
   "cell_type": "code",
   "execution_count": 3,
   "id": "1e987bb4-4309-42b8-a095-515adb376283",
   "metadata": {},
   "outputs": [
    {
     "data": {
      "text/html": [
       "<div>\n",
       "<style scoped>\n",
       "    .dataframe tbody tr th:only-of-type {\n",
       "        vertical-align: middle;\n",
       "    }\n",
       "\n",
       "    .dataframe tbody tr th {\n",
       "        vertical-align: top;\n",
       "    }\n",
       "\n",
       "    .dataframe thead th {\n",
       "        text-align: right;\n",
       "    }\n",
       "</style>\n",
       "<table border=\"1\" class=\"dataframe\">\n",
       "  <thead>\n",
       "    <tr style=\"text-align: right;\">\n",
       "      <th></th>\n",
       "      <th>mental_health_label</th>\n",
       "      <th>cleaned_text</th>\n",
       "    </tr>\n",
       "  </thead>\n",
       "  <tbody>\n",
       "    <tr>\n",
       "      <th>0</th>\n",
       "      <td>anxiety</td>\n",
       "      <td>mind never end cycle worry even simplest task ...</td>\n",
       "    </tr>\n",
       "    <tr>\n",
       "      <th>1</th>\n",
       "      <td>bipolar</td>\n",
       "      <td>despite sun shin bird sing outside window dept...</td>\n",
       "    </tr>\n",
       "    <tr>\n",
       "      <th>2</th>\n",
       "      <td>stress</td>\n",
       "      <td>drown responsibility one demand attention yet ...</td>\n",
       "    </tr>\n",
       "    <tr>\n",
       "      <th>3</th>\n",
       "      <td>personality disorder</td>\n",
       "      <td>emotion shift like wind leave uncertain truly ...</td>\n",
       "    </tr>\n",
       "    <tr>\n",
       "      <th>4</th>\n",
       "      <td>anxiety</td>\n",
       "      <td>trap whirlwind thought unable focus anything m...</td>\n",
       "    </tr>\n",
       "    <tr>\n",
       "      <th>...</th>\n",
       "      <td>...</td>\n",
       "      <td>...</td>\n",
       "    </tr>\n",
       "    <tr>\n",
       "      <th>103476</th>\n",
       "      <td>personality disorder</td>\n",
       "      <td>long embrace true self yet mirror mind reflect...</td>\n",
       "    </tr>\n",
       "    <tr>\n",
       "      <th>103477</th>\n",
       "      <td>anxiety</td>\n",
       "      <td>mind whirlwind bad case scenario leave paralyz...</td>\n",
       "    </tr>\n",
       "    <tr>\n",
       "      <th>103478</th>\n",
       "      <td>bipolar</td>\n",
       "      <td>bipolar disorder elate excitement crush despai...</td>\n",
       "    </tr>\n",
       "    <tr>\n",
       "      <th>103479</th>\n",
       "      <td>stress</td>\n",
       "      <td>despite best effort constant stream demand dea...</td>\n",
       "    </tr>\n",
       "    <tr>\n",
       "      <th>103480</th>\n",
       "      <td>personality disorder</td>\n",
       "      <td>torn want truly emotion shift like tide leave ...</td>\n",
       "    </tr>\n",
       "  </tbody>\n",
       "</table>\n",
       "<p>103481 rows × 2 columns</p>\n",
       "</div>"
      ],
      "text/plain": [
       "         mental_health_label  \\\n",
       "0                    anxiety   \n",
       "1                    bipolar   \n",
       "2                     stress   \n",
       "3       personality disorder   \n",
       "4                    anxiety   \n",
       "...                      ...   \n",
       "103476  personality disorder   \n",
       "103477               anxiety   \n",
       "103478               bipolar   \n",
       "103479                stress   \n",
       "103480  personality disorder   \n",
       "\n",
       "                                             cleaned_text  \n",
       "0       mind never end cycle worry even simplest task ...  \n",
       "1       despite sun shin bird sing outside window dept...  \n",
       "2       drown responsibility one demand attention yet ...  \n",
       "3       emotion shift like wind leave uncertain truly ...  \n",
       "4       trap whirlwind thought unable focus anything m...  \n",
       "...                                                   ...  \n",
       "103476  long embrace true self yet mirror mind reflect...  \n",
       "103477  mind whirlwind bad case scenario leave paralyz...  \n",
       "103478  bipolar disorder elate excitement crush despai...  \n",
       "103479  despite best effort constant stream demand dea...  \n",
       "103480  torn want truly emotion shift like tide leave ...  \n",
       "\n",
       "[103481 rows x 2 columns]"
      ]
     },
     "execution_count": 3,
     "metadata": {},
     "output_type": "execute_result"
    }
   ],
   "source": [
    "data= pd.read_csv('modified_mental_health.csv')\n",
    "data"
   ]
  },
  {
   "cell_type": "code",
   "execution_count": 4,
   "id": "838650d8-ef53-4d80-b9ed-d347b246b62c",
   "metadata": {},
   "outputs": [
    {
     "data": {
      "text/plain": [
       "True"
      ]
     },
     "execution_count": 4,
     "metadata": {},
     "output_type": "execute_result"
    }
   ],
   "source": [
    "#checking for duplicates\n",
    "data.duplicated(subset=['cleaned_text']).any()"
   ]
  },
  {
   "cell_type": "markdown",
   "id": "e1e6b466-7dd9-4670-9339-a38c1bde8110",
   "metadata": {},
   "source": [
    "* There are duplicates present in the cleaned text column."
   ]
  },
  {
   "cell_type": "code",
   "execution_count": 5,
   "id": "a0e5b1b8-c1e5-49e8-8d33-64d9fe8f45c0",
   "metadata": {},
   "outputs": [],
   "source": [
    "#removing duplicates\n",
    "data=data.drop_duplicates(subset=['cleaned_text'],keep='first')"
   ]
  },
  {
   "cell_type": "code",
   "execution_count": 6,
   "id": "8ef158e1-5d66-445c-b695-2fa9f4b15931",
   "metadata": {},
   "outputs": [
    {
     "data": {
      "text/plain": [
       "False"
      ]
     },
     "execution_count": 6,
     "metadata": {},
     "output_type": "execute_result"
    }
   ],
   "source": [
    "#checking whether duplicates have been removed\n",
    "data.duplicated(subset=['cleaned_text']).any()"
   ]
  },
  {
   "cell_type": "code",
   "execution_count": 7,
   "id": "7453d08c-d8bc-4e07-9304-91463729b7a0",
   "metadata": {},
   "outputs": [
    {
     "data": {
      "text/plain": [
       "(99840, 2)"
      ]
     },
     "execution_count": 7,
     "metadata": {},
     "output_type": "execute_result"
    }
   ],
   "source": [
    "data.shape"
   ]
  },
  {
   "cell_type": "markdown",
   "id": "ad9c7f2f-67ee-43b0-b537-b6da5b177638",
   "metadata": {},
   "source": [
    "* The final dataset contains 99840 rows and two columns."
   ]
  },
  {
   "cell_type": "code",
   "execution_count": 8,
   "id": "b554c784-b596-44b9-a82c-baf3d7dded12",
   "metadata": {},
   "outputs": [
    {
     "data": {
      "text/plain": [
       "mental_health_label    0\n",
       "cleaned_text           1\n",
       "dtype: int64"
      ]
     },
     "execution_count": 8,
     "metadata": {},
     "output_type": "execute_result"
    }
   ],
   "source": [
    "#checking for missing values\n",
    "data.isnull().sum()"
   ]
  },
  {
   "cell_type": "code",
   "execution_count": 9,
   "id": "9935c9cf-1c73-457c-a4da-37df30e4fe12",
   "metadata": {},
   "outputs": [
    {
     "data": {
      "text/plain": [
       "mental_health_label    0\n",
       "cleaned_text           0\n",
       "dtype: int64"
      ]
     },
     "execution_count": 9,
     "metadata": {},
     "output_type": "execute_result"
    }
   ],
   "source": [
    "#drop missing values\n",
    "data.dropna(axis=0,inplace=True)\n",
    "#confirm null values have been removed\n",
    "data.isnull().sum()"
   ]
  },
  {
   "cell_type": "markdown",
   "id": "3e442c07-eb26-4390-8759-6ee670089d7d",
   "metadata": {},
   "source": [
    "### 4.2.3 label Encoding"
   ]
  },
  {
   "cell_type": "markdown",
   "id": "8b708902-4db6-4255-ad6e-6b5453c56b40",
   "metadata": {},
   "source": [
    "In this section we will make a new column with the mental health classes converted to numbers."
   ]
  },
  {
   "cell_type": "code",
   "execution_count": 10,
   "id": "2b46f01d-ca48-48e3-bee9-bedab4b432aa",
   "metadata": {},
   "outputs": [
    {
     "data": {
      "text/html": [
       "<div>\n",
       "<style scoped>\n",
       "    .dataframe tbody tr th:only-of-type {\n",
       "        vertical-align: middle;\n",
       "    }\n",
       "\n",
       "    .dataframe tbody tr th {\n",
       "        vertical-align: top;\n",
       "    }\n",
       "\n",
       "    .dataframe thead th {\n",
       "        text-align: right;\n",
       "    }\n",
       "</style>\n",
       "<table border=\"1\" class=\"dataframe\">\n",
       "  <thead>\n",
       "    <tr style=\"text-align: right;\">\n",
       "      <th></th>\n",
       "      <th>mental_health_label</th>\n",
       "      <th>cleaned_text</th>\n",
       "      <th>label</th>\n",
       "    </tr>\n",
       "  </thead>\n",
       "  <tbody>\n",
       "    <tr>\n",
       "      <th>0</th>\n",
       "      <td>anxiety</td>\n",
       "      <td>mind never end cycle worry even simplest task ...</td>\n",
       "      <td>0</td>\n",
       "    </tr>\n",
       "    <tr>\n",
       "      <th>1</th>\n",
       "      <td>bipolar</td>\n",
       "      <td>despite sun shin bird sing outside window dept...</td>\n",
       "      <td>1</td>\n",
       "    </tr>\n",
       "    <tr>\n",
       "      <th>2</th>\n",
       "      <td>stress</td>\n",
       "      <td>drown responsibility one demand attention yet ...</td>\n",
       "      <td>5</td>\n",
       "    </tr>\n",
       "    <tr>\n",
       "      <th>3</th>\n",
       "      <td>personality disorder</td>\n",
       "      <td>emotion shift like wind leave uncertain truly ...</td>\n",
       "      <td>4</td>\n",
       "    </tr>\n",
       "    <tr>\n",
       "      <th>4</th>\n",
       "      <td>anxiety</td>\n",
       "      <td>trap whirlwind thought unable focus anything m...</td>\n",
       "      <td>0</td>\n",
       "    </tr>\n",
       "  </tbody>\n",
       "</table>\n",
       "</div>"
      ],
      "text/plain": [
       "    mental_health_label                                       cleaned_text  \\\n",
       "0               anxiety  mind never end cycle worry even simplest task ...   \n",
       "1               bipolar  despite sun shin bird sing outside window dept...   \n",
       "2                stress  drown responsibility one demand attention yet ...   \n",
       "3  personality disorder  emotion shift like wind leave uncertain truly ...   \n",
       "4               anxiety  trap whirlwind thought unable focus anything m...   \n",
       "\n",
       "   label  \n",
       "0      0  \n",
       "1      1  \n",
       "2      5  \n",
       "3      4  \n",
       "4      0  "
      ]
     },
     "execution_count": 10,
     "metadata": {},
     "output_type": "execute_result"
    }
   ],
   "source": [
    "#label encoding\n",
    "label_encoder = LabelEncoder()\n",
    "data['label'] = label_encoder.fit_transform(data['mental_health_label'])\n",
    "data.head()"
   ]
  },
  {
   "cell_type": "code",
   "execution_count": 27,
   "id": "5018640b",
   "metadata": {},
   "outputs": [
    {
     "data": {
      "text/plain": [
       "mental_health_label\n",
       "anxiety                 16384\n",
       "normal                  15353\n",
       "depression              15233\n",
       "stress                  14949\n",
       "bipolar                 13623\n",
       "personality disorder    13621\n",
       "suicidal                10676\n",
       "Name: count, dtype: int64"
      ]
     },
     "execution_count": 27,
     "metadata": {},
     "output_type": "execute_result"
    }
   ],
   "source": [
    "data[\"mental_health_label\"].value_counts()"
   ]
  },
  {
   "cell_type": "code",
   "execution_count": 11,
   "id": "8a34c9fa-34df-408c-92a4-454e770041cc",
   "metadata": {},
   "outputs": [
    {
     "data": {
      "text/plain": [
       "label\n",
       "0    16384\n",
       "1    13623\n",
       "2    15233\n",
       "3    15353\n",
       "4    13621\n",
       "5    14949\n",
       "6    10676\n",
       "Name: count, dtype: int64"
      ]
     },
     "execution_count": 11,
     "metadata": {},
     "output_type": "execute_result"
    }
   ],
   "source": [
    "data['label'].value_counts().sort_index()"
   ]
  },
  {
   "cell_type": "markdown",
   "id": "8925946c-19f1-40a8-92bb-f9464293fa9d",
   "metadata": {},
   "source": [
    "* Our classes seem to be fairly balanced with all the classes containing 10,000 text data."
   ]
  },
  {
   "cell_type": "markdown",
   "id": "f06d4a17-a9f0-4f93-ad86-cb8b03790d04",
   "metadata": {},
   "source": [
    "### 4.2.4 Splitting our Dataset"
   ]
  },
  {
   "cell_type": "code",
   "execution_count": 12,
   "id": "f1409efa-d7d0-4575-bd59-e5ca596fdcba",
   "metadata": {},
   "outputs": [],
   "source": [
    "#Split the data into train, validation, and test\n",
    "#70% training, 15% validation, 15% test\n",
    "\n",
    "X= data['cleaned_text']\n",
    "y= data['label']\n",
    "\n",
    "X_train,X_temp,y_train,y_temp = train_test_split(X,y, test_size=0.3, random_state=42, stratify=y)\n",
    "\n",
    "X_val, X_test, y_val, y_test = train_test_split( X_temp,y_temp, test_size=0.5, random_state=42, stratify=y_temp)\n"
   ]
  },
  {
   "cell_type": "markdown",
   "id": "3385c4a0-f843-4e91-a675-d54dbbf16e20",
   "metadata": {},
   "source": [
    "### 4.2.5 Loading the Roberta tokenizer"
   ]
  },
  {
   "cell_type": "code",
   "execution_count": 13,
   "id": "de3f1d22-01e7-4db1-b418-b90979be15e0",
   "metadata": {},
   "outputs": [],
   "source": [
    "#Load the RoBERTa tokenizer\n",
    "tokenizer = RobertaTokenizer.from_pretrained('roberta-base')\n"
   ]
  },
  {
   "cell_type": "markdown",
   "id": "ee99185e-c6b6-47e7-bb31-3d83a32d1ac5",
   "metadata": {},
   "source": [
    "* In this section we use the Robertatokenizer which converts raw text into a format that RoBERTa models can understand, i.e numerical token IDs, while preserving linguistic structure and handling rare words efficiently."
   ]
  },
  {
   "cell_type": "markdown",
   "id": "cc098869-cb9f-45b1-a1fc-7d0cdcf1e401",
   "metadata": {},
   "source": [
    "* It preserves model compatibility."
   ]
  },
  {
   "cell_type": "markdown",
   "id": "9fbaaf75-4faf-4ea9-bfed-1f77eddf9d2b",
   "metadata": {},
   "source": [
    "### 4.2.6 Tokenizing the text data."
   ]
  },
  {
   "cell_type": "markdown",
   "id": "fb56e1ec-d72b-4232-aea8-b8b9d246f774",
   "metadata": {},
   "source": [
    "In this section we turn the text data into numbers that RoBERTa can understand."
   ]
  },
  {
   "cell_type": "code",
   "execution_count": 14,
   "id": "e3224fc6-1fe6-4466-8228-2071e38cce3d",
   "metadata": {},
   "outputs": [
    {
     "data": {
      "application/vnd.jupyter.widget-view+json": {
       "model_id": "ae14a7f1ccba4210aded79527d44ec64",
       "version_major": 2,
       "version_minor": 0
      },
      "text/plain": [
       "Map:   0%|          | 0/69887 [00:00<?, ? examples/s]"
      ]
     },
     "metadata": {},
     "output_type": "display_data"
    },
    {
     "data": {
      "application/vnd.jupyter.widget-view+json": {
       "model_id": "e8cdb5f3fd1b41b287d2263441af5080",
       "version_major": 2,
       "version_minor": 0
      },
      "text/plain": [
       "Map:   0%|          | 0/14976 [00:00<?, ? examples/s]"
      ]
     },
     "metadata": {},
     "output_type": "display_data"
    },
    {
     "data": {
      "application/vnd.jupyter.widget-view+json": {
       "model_id": "957fde7db5e34ff094ab872eef5e667a",
       "version_major": 2,
       "version_minor": 0
      },
      "text/plain": [
       "Map:   0%|          | 0/14976 [00:00<?, ? examples/s]"
      ]
     },
     "metadata": {},
     "output_type": "display_data"
    }
   ],
   "source": [
    "#Tokenize the text data\n",
    "\n",
    "def tokenize_function(df):\n",
    "    return tokenizer(df['cleaned_text'], padding='max_length', truncation=True, max_length=128)\n",
    "\n",
    "train_data = pd.DataFrame({'cleaned_text': X_train, 'label': y_train})\n",
    "val_data = pd.DataFrame({'cleaned_text': X_val, 'label': y_val})\n",
    "test_data = pd.DataFrame({'cleaned_text':X_test, 'label': y_test})\n",
    "\n",
    "train_dataset = Dataset.from_pandas(train_data)\n",
    "val_dataset = Dataset.from_pandas(val_data)\n",
    "test_dataset = Dataset.from_pandas(test_data)\n",
    "\n",
    "train_dataset = train_dataset.map(tokenize_function, batched=True)\n",
    "val_dataset = val_dataset.map(tokenize_function, batched=True)\n",
    "test_dataset = test_dataset.map(tokenize_function, batched=True)"
   ]
  },
  {
   "cell_type": "markdown",
   "id": "2c386e35-0189-4e2f-a188-efa40ab12c1c",
   "metadata": {},
   "source": [
    "### 4.2.7  Loading the Roberta model for Classification."
   ]
  },
  {
   "cell_type": "code",
   "execution_count": 15,
   "id": "6510e7be-15bd-4df2-b649-215b3733dfde",
   "metadata": {},
   "outputs": [
    {
     "name": "stderr",
     "output_type": "stream",
     "text": [
      "Some weights of RobertaForSequenceClassification were not initialized from the model checkpoint at roberta-base and are newly initialized: ['classifier.dense.bias', 'classifier.dense.weight', 'classifier.out_proj.bias', 'classifier.out_proj.weight']\n",
      "You should probably TRAIN this model on a down-stream task to be able to use it for predictions and inference.\n"
     ]
    }
   ],
   "source": [
    "#The model already knows English; we just train it on our mental health labels\n",
    "model = RobertaForSequenceClassification.from_pretrained('roberta-base', num_labels=len(label_encoder.classes_))"
   ]
  },
  {
   "cell_type": "markdown",
   "id": "110acd67-df99-4299-9dbf-05c8a61f5557",
   "metadata": {},
   "source": [
    "* The above warning reminds us to fine tune the full model on our dataset since the  task specific head starts untrained."
   ]
  },
  {
   "cell_type": "markdown",
   "id": "38636f93-c761-4693-91dd-e56d853daa2c",
   "metadata": {},
   "source": [
    "### 4.2.8 Defining our Measure of Success"
   ]
  },
  {
   "cell_type": "markdown",
   "id": "253f51be-f028-4a06-aa53-207047755e07",
   "metadata": {},
   "source": [
    "In this section we will make of accuracy score as our evaluation metric."
   ]
  },
  {
   "cell_type": "code",
   "execution_count": 16,
   "id": "d587f401-6be5-4e9c-94fd-3fde4b51577a",
   "metadata": {},
   "outputs": [],
   "source": [
    "def compute_metrics(pred):\n",
    "    labels = pred.label_ids\n",
    "    preds = np.argmax(pred.predictions, axis=1)\n",
    "    acc = accuracy_score(labels, preds)\n",
    "    return {'accuracy': acc}"
   ]
  },
  {
   "cell_type": "markdown",
   "id": "56f4b96a-b1d8-4e8d-bada-eda6d87c1978",
   "metadata": {},
   "source": [
    "### 4.2.9 Setting up Instructions for training."
   ]
  },
  {
   "cell_type": "markdown",
   "id": "9aedcd8d-0163-4d2e-9167-269cf93a46da",
   "metadata": {},
   "source": [
    "In this section we will make use of the following arguments:\n",
    "1. **output_dir:**    Specifies the directory where the model checkpoints and training logs will be saved.\n",
    "2. **eval_strategy:** Specify when to perform evaluation during training (e.g., \"epoch\", \"steps\", \"no\").\n",
    "3. **logging_steps:** Records progress at each epoch.\n",
    "4. **learning rate:** It influences how quickly or slowly the model adapts to the training data, impacting both convergence speed and final performance.\n",
    "5. **per_device_train_batch_size:** Defines the batch size used for training on each GPU/CPU.\n",
    "6. **per_device_eval_batch_size:**  Defines the batch size used for evaluation on each GPU/CPU.\n",
    "7. **num_train_epochs:** Sets the total number of times the training data will be iterated over.\n",
    "8. **weight_decay:** Applies L2 regularization to the model's weights, helping to prevent overfitting\n"
   ]
  },
  {
   "cell_type": "code",
   "execution_count": 17,
   "id": "bfd88dda-54b3-4c76-9647-3865776bdc82",
   "metadata": {},
   "outputs": [],
   "source": [
    "#Set up training instructions\n",
    "training_args = TrainingArguments(\n",
    "    output_dir=\"./roberta_results\", #where to save the model\n",
    "    eval_strategy=\"epoch\",    #evaluate at the end of each epoch\n",
    "    logging_strategy=\"epoch\",      #record progress each epoch\n",
    "    learning_rate=2e-5,            #how fast the model learns\n",
    "    per_device_train_batch_size=8,  #how many samples per batch\n",
    "    per_device_eval_batch_size=8,\n",
    "    num_train_epochs=3,             #how many times to see all the data\n",
    "    weight_decay=0.01,              #smallpenalty to reduce overfitting\n",
    ")\n",
    "\n"
   ]
  },
  {
   "cell_type": "markdown",
   "id": "95070df1-9b79-4015-8e01-91af4e402c91",
   "metadata": {},
   "source": [
    "### 4.2.10 Building the trainer."
   ]
  },
  {
   "cell_type": "markdown",
   "id": "e521822e-82a5-4978-aa64-5d57c257c8b4",
   "metadata": {},
   "source": [
    "In this section we create an instance of the trainer class that orchestrates the entire fine-tuning process which include training, evaluation, saving, logging, etc."
   ]
  },
  {
   "cell_type": "code",
   "execution_count": 18,
   "id": "793b4133-23d9-44cc-8a0b-d05e0481cbd0",
   "metadata": {},
   "outputs": [],
   "source": [
    "#Build the Trainer\n",
    "trainer = Trainer(\n",
    "    model=model,\n",
    "    args=training_args,\n",
    "    train_dataset=train_dataset,\n",
    "    eval_dataset=val_dataset,\n",
    "    compute_metrics=compute_metrics,\n",
    ")\n"
   ]
  },
  {
   "cell_type": "code",
   "execution_count": 19,
   "id": "8b41d94a-5ceb-4f9a-842e-6a216c2aecf9",
   "metadata": {},
   "outputs": [
    {
     "data": {
      "text/html": [
       "\n",
       "    <div>\n",
       "      \n",
       "      <progress value='26208' max='26208' style='width:300px; height:20px; vertical-align: middle;'></progress>\n",
       "      [26208/26208 45:38:35, Epoch 3/3]\n",
       "    </div>\n",
       "    <table border=\"1\" class=\"dataframe\">\n",
       "  <thead>\n",
       " <tr style=\"text-align: left;\">\n",
       "      <th>Epoch</th>\n",
       "      <th>Training Loss</th>\n",
       "      <th>Validation Loss</th>\n",
       "      <th>Accuracy</th>\n",
       "    </tr>\n",
       "  </thead>\n",
       "  <tbody>\n",
       "    <tr>\n",
       "      <td>1</td>\n",
       "      <td>0.450800</td>\n",
       "      <td>0.357436</td>\n",
       "      <td>0.872796</td>\n",
       "    </tr>\n",
       "    <tr>\n",
       "      <td>2</td>\n",
       "      <td>0.333700</td>\n",
       "      <td>0.378415</td>\n",
       "      <td>0.881210</td>\n",
       "    </tr>\n",
       "    <tr>\n",
       "      <td>3</td>\n",
       "      <td>0.268800</td>\n",
       "      <td>0.412097</td>\n",
       "      <td>0.885951</td>\n",
       "    </tr>\n",
       "  </tbody>\n",
       "</table><p>"
      ],
      "text/plain": [
       "<IPython.core.display.HTML object>"
      ]
     },
     "metadata": {},
     "output_type": "display_data"
    },
    {
     "data": {
      "text/plain": [
       "TrainOutput(global_step=26208, training_loss=0.351113036438659, metrics={'train_runtime': 164325.4929, 'train_samples_per_second': 1.276, 'train_steps_per_second': 0.159, 'total_flos': 1.37916508650048e+16, 'train_loss': 0.351113036438659, 'epoch': 3.0})"
      ]
     },
     "execution_count": 19,
     "metadata": {},
     "output_type": "execute_result"
    }
   ],
   "source": [
    "# Train the model\n",
    "trainer.train() "
   ]
  },
  {
   "cell_type": "markdown",
   "id": "66ca6689",
   "metadata": {},
   "source": [
    "### Key observations.\n",
    "\n",
    "* After running the model for 3 epochs we have a final accuracy of 88.59%, this  makes it the best model compared to the    traditional models we trained earlier\n",
    "* The Training loss reduces with each epoch meaning the model was learning well and generalizing properly which is further emphasized by the minimal gaps between each training loss\n",
    "* The validation loss goes a bit up (0.35 → 0.41). This shows the model might be starting to overfit a little — it learns training data better than new data.\n",
    "\n",
    "* Overall, the model performance is strong and stable, nearly 88–89% accuracy"
   ]
  },
  {
   "cell_type": "markdown",
   "id": "73b0b358-0137-467b-8ee7-0e46b6513878",
   "metadata": {},
   "source": [
    "### 4.2.11 Training the model and Visualizing the Training, Validation Accuracy and loss"
   ]
  },
  {
   "cell_type": "code",
   "execution_count": 25,
   "id": "896e6998-4477-463b-a693-89fe9b8ec236",
   "metadata": {},
   "outputs": [
    {
     "data": {
      "image/png": "[encoded data removed]",
      "text/plain": [
       "<Figure size 800x500 with 1 Axes>"
      ]
     },
     "metadata": {},
     "output_type": "display_data"
    },
    {
     "data": {
      "image/png": "[encoded data removed]",
      "text/plain": [
       "<Figure size 800x500 with 1 Axes>"
      ]
     },
     "metadata": {},
     "output_type": "display_data"
    }
   ],
   "source": [
    "import matplotlib.pyplot as plt\n",
    "\n",
    "# Extract from logs\n",
    "logs = trainer.state.log_history\n",
    "\n",
    "val_acc = [x['eval_accuracy'] for x in logs if 'eval_accuracy' in x]\n",
    "train_loss = [x['loss'] for x in logs if 'loss' in x]\n",
    "val_loss = [x['eval_loss'] for x in logs if 'eval_loss' in x]\n",
    "\n",
    "epochs = range(1, len(val_acc) + 1)\n",
    "\n",
    "# ---- Plot Validation Accuracy ----\n",
    "plt.figure(figsize=(8, 5))\n",
    "plt.plot(epochs, val_acc, 'ro-', label='Validation Accuracy')\n",
    "plt.title(\"Validation Accuracy per Epoch\")\n",
    "plt.xlabel(\"Epoch\")\n",
    "plt.ylabel(\"Accuracy\")\n",
    "plt.legend()\n",
    "plt.grid(True)\n",
    "plt.show()\n",
    "\n",
    "# ---- Plot Loss ----\n",
    "plt.figure(figsize=(8, 5))\n",
    "plt.plot(epochs, train_loss[:len(epochs)], 'bo-', label='Training Loss')\n",
    "plt.plot(epochs, val_loss, 'ro-', label='Validation Loss')\n",
    "plt.title(\"Training vs Validation Loss\")\n",
    "plt.xlabel(\"Epoch\")\n",
    "plt.ylabel(\"Loss\")\n",
    "plt.legend()\n",
    "plt.grid(True)\n",
    "plt.show()"
   ]
  },
  {
   "cell_type": "markdown",
   "id": "87e45406",
   "metadata": {},
   "source": [
    "### Key observations\n",
    "\n",
    "* The validation accuracy shows a steady upward trend from approximately 87.3% in the first epoch to 88.6% by the third epoch, indicating consistent improvement in the model’s predictive performance over time, showing good generalization.\n",
    "----\n",
    "\n",
    "**Training vs. Validation Loss:**\n",
    "\n",
    "The training loss decreases notably from about 0.45 to 0.27, suggesting effective learning on the training data. However, the validation loss increases gradually from 0.36 to 0.41, implying that while the model continues to fit the  training data better, its generalization performance on unseen data begins to slightly deteriorate."
   ]
  },
  {
   "cell_type": "markdown",
   "id": "4a953d96-3caf-4f16-a9ea-0a6f18a67633",
   "metadata": {},
   "source": [
    "### 4.2.12 Evaluate on the test data"
   ]
  },
  {
   "cell_type": "code",
   "execution_count": 26,
   "id": "b68469c9-c663-4a87-be28-0c5f34059e67",
   "metadata": {},
   "outputs": [
    {
     "data": {
      "text/html": [
       "\n",
       "    <div>\n",
       "      \n",
       "      <progress value='1872' max='1872' style='width:300px; height:20px; vertical-align: middle;'></progress>\n",
       "      [1872/1872 1:01:02]\n",
       "    </div>\n",
       "    "
      ],
      "text/plain": [
       "<IPython.core.display.HTML object>"
      ]
     },
     "metadata": {},
     "output_type": "display_data"
    },
    {
     "name": "stdout",
     "output_type": "stream",
     "text": [
      "Test Results: {'eval_loss': 0.4283587336540222, 'eval_accuracy': 0.8832131410256411, 'eval_runtime': 3664.8993, 'eval_samples_per_second': 4.086, 'eval_steps_per_second': 0.511, 'epoch': 3.0}\n"
     ]
    }
   ],
   "source": [
    "test_results = trainer.evaluate(test_dataset)\n",
    "print(\"Test Results:\", test_results)"
   ]
  },
  {
   "cell_type": "markdown",
   "id": "68319820-77ca-4c37-827e-4b9d3d79f630",
   "metadata": {},
   "source": [
    "### 4.2.13 Saving the model"
   ]
  },
  {
   "cell_type": "markdown",
   "id": "438fc476-5dba-481c-81db-f7a85192904a",
   "metadata": {},
   "source": [
    "In this section we will make use of joblib and pickle to save the roberta model."
   ]
  },
  {
   "cell_type": "code",
   "execution_count": 21,
   "id": "076c72b2-797b-42f7-ad12-92e0a85b36c8",
   "metadata": {},
   "outputs": [
    {
     "name": "stdout",
     "output_type": "stream",
     "text": [
      "Model and tokenizer saved successfully using both joblib and pickle!\n"
     ]
    }
   ],
   "source": [
    "# Save the roberta model and tokenizer as before\n",
    "model.save_pretrained(\"./saved_roberta_model\")\n",
    "tokenizer.save_pretrained(\"./saved_roberta_model\")\n",
    "\n",
    "# Save the model object using joblib\n",
    "joblib.dump(model, \"roberta_model_joblib.pkl\")\n",
    "\n",
    "# Save the model object using pickle\n",
    "with open(\"roberta_model_pickle.pkl\", \"wb\") as f:\n",
    "    pickle.dump(model, f)\n",
    "\n",
    "# Save the tokenizer separately (it’s smaller)\n",
    "joblib.dump(tokenizer, \"roberta_tokenizer_joblib.pkl\")\n",
    "\n",
    "print(\"Model and tokenizer saved successfully using both joblib and pickle!\")"
   ]
  },
  {
   "cell_type": "markdown",
   "id": "0f20b3b0",
   "metadata": {},
   "source": [
    "**This code below calls in the saved model and readies it for use without having to run the whole kernel again.**"
   ]
  },
  {
   "cell_type": "code",
   "execution_count": 40,
   "id": "53eae42a",
   "metadata": {},
   "outputs": [],
   "source": [
    "from transformers import RobertaTokenizer, RobertaForSequenceClassification, Trainer, TrainingArguments\n",
    "import torch"
   ]
  },
  {
   "cell_type": "code",
   "execution_count": 41,
   "id": "cbb4970c",
   "metadata": {},
   "outputs": [
    {
     "name": "stdout",
     "output_type": "stream",
     "text": [
      "Predicted label: 6\n"
     ]
    }
   ],
   "source": [
    "# Load the model and tokenizer from the folder\n",
    "model_path = \"./saved_roberta_model\"\n",
    "tokenizer = RobertaTokenizer.from_pretrained(model_path)\n",
    "model = RobertaForSequenceClassification.from_pretrained(model_path)\n",
    "\n",
    "# Set model to evaluation mode\n",
    "model.eval()\n",
    "\n",
    "# Example: Predict a text \n",
    "text = \"i feel like killing myself  \"\n",
    "\n",
    "# Tokenize (convert text into model format)\n",
    "inputs = tokenizer(text, return_tensors=\"pt\", padding=True, truncation=True, max_length=128)\n",
    "\n",
    "# Get prediction\n",
    "with torch.no_grad():\n",
    "    outputs = model(**inputs)\n",
    "    predictions = torch.argmax(outputs.logits, dim=-1)\n",
    "\n",
    "print(\"Predicted label:\", predictions.item())"
   ]
  },
  {
   "cell_type": "markdown",
   "id": "13227f2f",
   "metadata": {},
   "source": [
    "The final step is to deploy this model"
   ]
  }
 ],
 "metadata": {
  "kernelspec": {
   "display_name": "Python (learn-env)",
   "language": "python",
   "name": "learn-env"
  },
  "language_info": {
   "codemirror_mode": {
    "name": "ipython",
    "version": 3
   },
   "file_extension": ".py",
   "mimetype": "text/x-python",
   "name": "python",
   "nbconvert_exporter": "python",
   "pygments_lexer": "ipython3",
   "version": "3.8.16"
  }
 },
 "nbformat": 4,
 "nbformat_minor": 5
}
