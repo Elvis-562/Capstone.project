{
 "cells": [
  {
   "cell_type": "markdown",
   "id": "5274a44e-80a8-4df6-8e9a-555192679132",
   "metadata": {},
   "source": [
    "## Data Preprocessing"
   ]
  },
  {
   "cell_type": "code",
   "execution_count": 2,
   "id": "6a2eabb6-b303-4057-8a07-106cb23c5e77",
   "metadata": {},
   "outputs": [
    {
     "name": "stdout",
     "output_type": "stream",
     "text": [
      "Requirement already satisfied: stopwordsiso in c:\\users\\lenovo\\anaconda3\\lib\\site-packages (0.6.1)\n"
     ]
    }
   ],
   "source": [
    "!pip install stopwordsiso"
   ]
  },
  {
   "cell_type": "code",
   "execution_count": 3,
   "id": "f70d2d09-2238-4dac-8c86-bf6daa53a7b3",
   "metadata": {},
   "outputs": [
    {
     "data": {
      "text/plain": [
       "True"
      ]
     },
     "execution_count": 3,
     "metadata": {},
     "output_type": "execute_result"
    }
   ],
   "source": [
    "import pandas as pd\n",
    "import  nltk\n",
    "import re\n",
    "from nltk.corpus import stopwords\n",
    "import stopwordsiso as stopwords #provides stopwords for many languages, each identified by its ISO code.\n",
    "from nltk.tokenize import word_tokenize\n",
    "from nltk.corpus import wordnet\n",
    "from nltk.stem import WordNetLemmatizer\n",
    "from nltk import pos_tag\n",
    "nltk.download('stopwords', quiet=True)\n",
    "nltk.download('wordnet', quiet=True)\n",
    "nltk.download('punkt', quiet=True)\n",
    "nltk.download('punkt_tab', quiet=True)\n",
    "nltk.download('averaged_perceptron_tagger', quiet=True)\n",
    "nltk.download('omw-1.4', quiet=True)"
   ]
  },
  {
   "cell_type": "code",
   "execution_count": 4,
   "id": "8f9c1375-c976-462f-a0ee-9df8fef6f2fc",
   "metadata": {},
   "outputs": [
    {
     "data": {
      "text/html": [
       "<div>\n",
       "<style scoped>\n",
       "    .dataframe tbody tr th:only-of-type {\n",
       "        vertical-align: middle;\n",
       "    }\n",
       "\n",
       "    .dataframe tbody tr th {\n",
       "        vertical-align: top;\n",
       "    }\n",
       "\n",
       "    .dataframe thead th {\n",
       "        text-align: right;\n",
       "    }\n",
       "</style>\n",
       "<table border=\"1\" class=\"dataframe\">\n",
       "  <thead>\n",
       "    <tr style=\"text-align: right;\">\n",
       "      <th></th>\n",
       "      <th>text</th>\n",
       "      <th>status</th>\n",
       "      <th>text_sw</th>\n",
       "    </tr>\n",
       "  </thead>\n",
       "  <tbody>\n",
       "    <tr>\n",
       "      <th>0</th>\n",
       "      <td>\"My mind is a never-ending cycle of worry, and...</td>\n",
       "      <td>anxiety</td>\n",
       "      <td>\"Akili yangu ni hali isiyobadilika ya wasiwasi...</td>\n",
       "    </tr>\n",
       "    <tr>\n",
       "      <th>1</th>\n",
       "      <td>Despite the sun shining and birds singing outs...</td>\n",
       "      <td>bipolar</td>\n",
       "      <td>Licha ya jua kung'aa na ndege wakiimba nje ya ...</td>\n",
       "    </tr>\n",
       "    <tr>\n",
       "      <th>2</th>\n",
       "      <td>I'm drowning in responsibilities, each one dem...</td>\n",
       "      <td>stress</td>\n",
       "      <td>Mimi ninalemewa na madaraka, kila mmoja akitak...</td>\n",
       "    </tr>\n",
       "    <tr>\n",
       "      <th>3</th>\n",
       "      <td>\"My emotions shift like the wind, leaving me u...</td>\n",
       "      <td>personality disorder</td>\n",
       "      <td>\"Hisia zangu hubadilika kama upepo, zikiniacha...</td>\n",
       "    </tr>\n",
       "    <tr>\n",
       "      <th>4</th>\n",
       "      <td>I'm trapped in a whirlwind of thoughts, unable...</td>\n",
       "      <td>anxiety</td>\n",
       "      <td>Nimenaswa na mawazo mengi sana, nashindwa kuka...</td>\n",
       "    </tr>\n",
       "  </tbody>\n",
       "</table>\n",
       "</div>"
      ],
      "text/plain": [
       "                                                text                status  \\\n",
       "0  \"My mind is a never-ending cycle of worry, and...               anxiety   \n",
       "1  Despite the sun shining and birds singing outs...               bipolar   \n",
       "2  I'm drowning in responsibilities, each one dem...                stress   \n",
       "3  \"My emotions shift like the wind, leaving me u...  personality disorder   \n",
       "4  I'm trapped in a whirlwind of thoughts, unable...               anxiety   \n",
       "\n",
       "                                             text_sw  \n",
       "0  \"Akili yangu ni hali isiyobadilika ya wasiwasi...  \n",
       "1  Licha ya jua kung'aa na ndege wakiimba nje ya ...  \n",
       "2  Mimi ninalemewa na madaraka, kila mmoja akitak...  \n",
       "3  \"Hisia zangu hubadilika kama upepo, zikiniacha...  \n",
       "4  Nimenaswa na mawazo mengi sana, nashindwa kuka...  "
      ]
     },
     "execution_count": 4,
     "metadata": {},
     "output_type": "execute_result"
    }
   ],
   "source": [
    "data= pd.read_csv('translated_dataset.csv')\n",
    "data.head()"
   ]
  },
  {
   "cell_type": "code",
   "execution_count": 5,
   "id": "b1e8d3d7-33e6-4e08-8674-95418a0c851b",
   "metadata": {},
   "outputs": [
    {
     "data": {
      "text/html": [
       "<div>\n",
       "<style scoped>\n",
       "    .dataframe tbody tr th:only-of-type {\n",
       "        vertical-align: middle;\n",
       "    }\n",
       "\n",
       "    .dataframe tbody tr th {\n",
       "        vertical-align: top;\n",
       "    }\n",
       "\n",
       "    .dataframe thead th {\n",
       "        text-align: right;\n",
       "    }\n",
       "</style>\n",
       "<table border=\"1\" class=\"dataframe\">\n",
       "  <thead>\n",
       "    <tr style=\"text-align: right;\">\n",
       "      <th></th>\n",
       "      <th>status</th>\n",
       "      <th>text_sw</th>\n",
       "    </tr>\n",
       "  </thead>\n",
       "  <tbody>\n",
       "    <tr>\n",
       "      <th>0</th>\n",
       "      <td>anxiety</td>\n",
       "      <td>\"Akili yangu ni hali isiyobadilika ya wasiwasi, na hata kazi rahisi zaidi nahisi kuwa haiwezi kushindwa.\" \"Ninakuwa na hofu na mashaka, na kila uamuzi unajisikia kama uwanja wa mabomu ya kutegwa chini ya ardhi unaongojea kulipuka.\"</td>\n",
       "    </tr>\n",
       "    <tr>\n",
       "      <th>1</th>\n",
       "      <td>bipolar</td>\n",
       "      <td>Licha ya jua kung'aa na ndege wakiimba nje ya dirisha langu, huzuni yangu inapungua sana, kana kwamba nimenaswa katika abiso isiyo na mwisho.</td>\n",
       "    </tr>\n",
       "    <tr>\n",
       "      <th>2</th>\n",
       "      <td>stress</td>\n",
       "      <td>Mimi ninalemewa na madaraka, kila mmoja akitaka uangalifu wangu, hata hivyo nahofu kwamba hata nijaribu kadiri gani, huenda nisiweze kamwe kushinda kazi nyingi mno mbele yangu.</td>\n",
       "    </tr>\n",
       "    <tr>\n",
       "      <th>3</th>\n",
       "      <td>personality disorder</td>\n",
       "      <td>\"Hisia zangu hubadilika kama upepo, zikiniacha nikiwa na wasiwasi kuhusu mimi ni nani kwa kweli. Ninatamani kuwa imara, lakini ninahofia kupoteza uwezo wangu wa kinyonga wa kuchangamana na mazingira yoyote.\"</td>\n",
       "    </tr>\n",
       "    <tr>\n",
       "      <th>4</th>\n",
       "      <td>anxiety</td>\n",
       "      <td>Nimenaswa na mawazo mengi sana, nashindwa kukazia fikira kitu chochote huku akili yangu ikiona mandhari mbaya sana, ikiniacha nikiwa hoi na nikiwa nimelemewa na hofu.</td>\n",
       "    </tr>\n",
       "    <tr>\n",
       "      <th>...</th>\n",
       "      <td>...</td>\n",
       "      <td>...</td>\n",
       "    </tr>\n",
       "    <tr>\n",
       "      <th>103483</th>\n",
       "      <td>personality disorder</td>\n",
       "      <td>Ninatamani sana kujikumbatia, hata hivyo, vioo vya akili yangu huonyesha sura inayobadilika daima, na kunifanya nipoteze uhakika na kujiona sifai.</td>\n",
       "    </tr>\n",
       "    <tr>\n",
       "      <th>103484</th>\n",
       "      <td>anxiety</td>\n",
       "      <td>\"Angarani yangu ni kubwa mno, inanifanya nishikwe na woga na kushindwa kukazia fikira chochote isipokuwa wasiwasi wangu.\"</td>\n",
       "    </tr>\n",
       "    <tr>\n",
       "      <th>103485</th>\n",
       "      <td>bipolar</td>\n",
       "      <td>Tatizo la Bipolar: Kutokana na msisimuko wenye furaha na kukata tamaa mara moja, kama vile gari linaloning'inia katikati ya barabara.</td>\n",
       "    </tr>\n",
       "    <tr>\n",
       "      <th>103486</th>\n",
       "      <td>stress</td>\n",
       "      <td>\"Licha ya jitihada zangu zote, shughuli nyingi na siku za hivi karibuni zinanifanya nijihisi nimenaswa, kana kwamba ninazama katika maji ya madaraka, bila kuwa na ufuo karibu.\"</td>\n",
       "    </tr>\n",
       "    <tr>\n",
       "      <th>103487</th>\n",
       "      <td>personality disorder</td>\n",
       "      <td>\"Nimevurugika kati ya nitakaye kuwa na mimi ni nani, na hisia zangu zinageuka kama mawimbi, na kunifanya nichanganyikiwe na sina uhakika.\"</td>\n",
       "    </tr>\n",
       "  </tbody>\n",
       "</table>\n",
       "<p>103488 rows × 2 columns</p>\n",
       "</div>"
      ],
      "text/plain": [
       "                      status  \\\n",
       "0                    anxiety   \n",
       "1                    bipolar   \n",
       "2                     stress   \n",
       "3       personality disorder   \n",
       "4                    anxiety   \n",
       "...                      ...   \n",
       "103483  personality disorder   \n",
       "103484               anxiety   \n",
       "103485               bipolar   \n",
       "103486                stress   \n",
       "103487  personality disorder   \n",
       "\n",
       "                                                                                                                                                                                                                                        text_sw  \n",
       "0       \"Akili yangu ni hali isiyobadilika ya wasiwasi, na hata kazi rahisi zaidi nahisi kuwa haiwezi kushindwa.\" \"Ninakuwa na hofu na mashaka, na kila uamuzi unajisikia kama uwanja wa mabomu ya kutegwa chini ya ardhi unaongojea kulipuka.\"  \n",
       "1                                                                                                 Licha ya jua kung'aa na ndege wakiimba nje ya dirisha langu, huzuni yangu inapungua sana, kana kwamba nimenaswa katika abiso isiyo na mwisho.  \n",
       "2                                                              Mimi ninalemewa na madaraka, kila mmoja akitaka uangalifu wangu, hata hivyo nahofu kwamba hata nijaribu kadiri gani, huenda nisiweze kamwe kushinda kazi nyingi mno mbele yangu.  \n",
       "3                               \"Hisia zangu hubadilika kama upepo, zikiniacha nikiwa na wasiwasi kuhusu mimi ni nani kwa kweli. Ninatamani kuwa imara, lakini ninahofia kupoteza uwezo wangu wa kinyonga wa kuchangamana na mazingira yoyote.\"  \n",
       "4                                                                        Nimenaswa na mawazo mengi sana, nashindwa kukazia fikira kitu chochote huku akili yangu ikiona mandhari mbaya sana, ikiniacha nikiwa hoi na nikiwa nimelemewa na hofu.  \n",
       "...                                                                                                                                                                                                                                         ...  \n",
       "103483                                                                                       Ninatamani sana kujikumbatia, hata hivyo, vioo vya akili yangu huonyesha sura inayobadilika daima, na kunifanya nipoteze uhakika na kujiona sifai.  \n",
       "103484                                                                                                                \"Angarani yangu ni kubwa mno, inanifanya nishikwe na woga na kushindwa kukazia fikira chochote isipokuwa wasiwasi wangu.\"  \n",
       "103485                                                                                                    Tatizo la Bipolar: Kutokana na msisimuko wenye furaha na kukata tamaa mara moja, kama vile gari linaloning'inia katikati ya barabara.  \n",
       "103486                                                         \"Licha ya jitihada zangu zote, shughuli nyingi na siku za hivi karibuni zinanifanya nijihisi nimenaswa, kana kwamba ninazama katika maji ya madaraka, bila kuwa na ufuo karibu.\"  \n",
       "103487                                                                                               \"Nimevurugika kati ya nitakaye kuwa na mimi ni nani, na hisia zangu zinageuka kama mawimbi, na kunifanya nichanganyikiwe na sina uhakika.\"  \n",
       "\n",
       "[103488 rows x 2 columns]"
      ]
     },
     "execution_count": 5,
     "metadata": {},
     "output_type": "execute_result"
    }
   ],
   "source": [
    "pd.set_option('display.max_colwidth',None)\n",
    "df=data.drop('text', axis=1)\n",
    "df"
   ]
  },
  {
   "cell_type": "code",
   "execution_count": 6,
   "id": "0eaa3d63-3254-4949-9c4b-8d7f17d66ffa",
   "metadata": {},
   "outputs": [
    {
     "name": "stdout",
     "output_type": "stream",
     "text": [
      "<class 'pandas.core.frame.DataFrame'>\n",
      "RangeIndex: 103488 entries, 0 to 103487\n",
      "Data columns (total 2 columns):\n",
      " #   Column   Non-Null Count   Dtype \n",
      "---  ------   --------------   ----- \n",
      " 0   status   103488 non-null  object\n",
      " 1   text_sw  103481 non-null  object\n",
      "dtypes: object(2)\n",
      "memory usage: 1.6+ MB\n"
     ]
    }
   ],
   "source": [
    "df.info()"
   ]
  },
  {
   "cell_type": "code",
   "execution_count": 7,
   "id": "0a49acd6-e45a-4fe8-92a0-c3e5f537c259",
   "metadata": {},
   "outputs": [
    {
     "data": {
      "text/plain": [
       "status     0\n",
       "text_sw    7\n",
       "dtype: int64"
      ]
     },
     "execution_count": 7,
     "metadata": {},
     "output_type": "execute_result"
    }
   ],
   "source": [
    "df.isnull().sum()"
   ]
  },
  {
   "cell_type": "code",
   "execution_count": 8,
   "id": "5a0853b6-2991-4b0e-8b49-b8365a12c3b7",
   "metadata": {},
   "outputs": [
    {
     "data": {
      "text/html": [
       "<div>\n",
       "<style scoped>\n",
       "    .dataframe tbody tr th:only-of-type {\n",
       "        vertical-align: middle;\n",
       "    }\n",
       "\n",
       "    .dataframe tbody tr th {\n",
       "        vertical-align: top;\n",
       "    }\n",
       "\n",
       "    .dataframe thead th {\n",
       "        text-align: right;\n",
       "    }\n",
       "</style>\n",
       "<table border=\"1\" class=\"dataframe\">\n",
       "  <thead>\n",
       "    <tr style=\"text-align: right;\">\n",
       "      <th></th>\n",
       "      <th>status</th>\n",
       "      <th>text_sw</th>\n",
       "    </tr>\n",
       "  </thead>\n",
       "  <tbody>\n",
       "    <tr>\n",
       "      <th>0</th>\n",
       "      <td>anxiety</td>\n",
       "      <td>\"Akili yangu ni hali isiyobadilika ya wasiwasi, na hata kazi rahisi zaidi nahisi kuwa haiwezi kushindwa.\" \"Ninakuwa na hofu na mashaka, na kila uamuzi unajisikia kama uwanja wa mabomu ya kutegwa chini ya ardhi unaongojea kulipuka.\"</td>\n",
       "    </tr>\n",
       "    <tr>\n",
       "      <th>1</th>\n",
       "      <td>bipolar</td>\n",
       "      <td>Licha ya jua kung'aa na ndege wakiimba nje ya dirisha langu, huzuni yangu inapungua sana, kana kwamba nimenaswa katika abiso isiyo na mwisho.</td>\n",
       "    </tr>\n",
       "    <tr>\n",
       "      <th>2</th>\n",
       "      <td>stress</td>\n",
       "      <td>Mimi ninalemewa na madaraka, kila mmoja akitaka uangalifu wangu, hata hivyo nahofu kwamba hata nijaribu kadiri gani, huenda nisiweze kamwe kushinda kazi nyingi mno mbele yangu.</td>\n",
       "    </tr>\n",
       "    <tr>\n",
       "      <th>3</th>\n",
       "      <td>personality disorder</td>\n",
       "      <td>\"Hisia zangu hubadilika kama upepo, zikiniacha nikiwa na wasiwasi kuhusu mimi ni nani kwa kweli. Ninatamani kuwa imara, lakini ninahofia kupoteza uwezo wangu wa kinyonga wa kuchangamana na mazingira yoyote.\"</td>\n",
       "    </tr>\n",
       "    <tr>\n",
       "      <th>4</th>\n",
       "      <td>anxiety</td>\n",
       "      <td>Nimenaswa na mawazo mengi sana, nashindwa kukazia fikira kitu chochote huku akili yangu ikiona mandhari mbaya sana, ikiniacha nikiwa hoi na nikiwa nimelemewa na hofu.</td>\n",
       "    </tr>\n",
       "    <tr>\n",
       "      <th>...</th>\n",
       "      <td>...</td>\n",
       "      <td>...</td>\n",
       "    </tr>\n",
       "    <tr>\n",
       "      <th>103483</th>\n",
       "      <td>personality disorder</td>\n",
       "      <td>Ninatamani sana kujikumbatia, hata hivyo, vioo vya akili yangu huonyesha sura inayobadilika daima, na kunifanya nipoteze uhakika na kujiona sifai.</td>\n",
       "    </tr>\n",
       "    <tr>\n",
       "      <th>103484</th>\n",
       "      <td>anxiety</td>\n",
       "      <td>\"Angarani yangu ni kubwa mno, inanifanya nishikwe na woga na kushindwa kukazia fikira chochote isipokuwa wasiwasi wangu.\"</td>\n",
       "    </tr>\n",
       "    <tr>\n",
       "      <th>103485</th>\n",
       "      <td>bipolar</td>\n",
       "      <td>Tatizo la Bipolar: Kutokana na msisimuko wenye furaha na kukata tamaa mara moja, kama vile gari linaloning'inia katikati ya barabara.</td>\n",
       "    </tr>\n",
       "    <tr>\n",
       "      <th>103486</th>\n",
       "      <td>stress</td>\n",
       "      <td>\"Licha ya jitihada zangu zote, shughuli nyingi na siku za hivi karibuni zinanifanya nijihisi nimenaswa, kana kwamba ninazama katika maji ya madaraka, bila kuwa na ufuo karibu.\"</td>\n",
       "    </tr>\n",
       "    <tr>\n",
       "      <th>103487</th>\n",
       "      <td>personality disorder</td>\n",
       "      <td>\"Nimevurugika kati ya nitakaye kuwa na mimi ni nani, na hisia zangu zinageuka kama mawimbi, na kunifanya nichanganyikiwe na sina uhakika.\"</td>\n",
       "    </tr>\n",
       "  </tbody>\n",
       "</table>\n",
       "<p>103481 rows × 2 columns</p>\n",
       "</div>"
      ],
      "text/plain": [
       "                      status  \\\n",
       "0                    anxiety   \n",
       "1                    bipolar   \n",
       "2                     stress   \n",
       "3       personality disorder   \n",
       "4                    anxiety   \n",
       "...                      ...   \n",
       "103483  personality disorder   \n",
       "103484               anxiety   \n",
       "103485               bipolar   \n",
       "103486                stress   \n",
       "103487  personality disorder   \n",
       "\n",
       "                                                                                                                                                                                                                                        text_sw  \n",
       "0       \"Akili yangu ni hali isiyobadilika ya wasiwasi, na hata kazi rahisi zaidi nahisi kuwa haiwezi kushindwa.\" \"Ninakuwa na hofu na mashaka, na kila uamuzi unajisikia kama uwanja wa mabomu ya kutegwa chini ya ardhi unaongojea kulipuka.\"  \n",
       "1                                                                                                 Licha ya jua kung'aa na ndege wakiimba nje ya dirisha langu, huzuni yangu inapungua sana, kana kwamba nimenaswa katika abiso isiyo na mwisho.  \n",
       "2                                                              Mimi ninalemewa na madaraka, kila mmoja akitaka uangalifu wangu, hata hivyo nahofu kwamba hata nijaribu kadiri gani, huenda nisiweze kamwe kushinda kazi nyingi mno mbele yangu.  \n",
       "3                               \"Hisia zangu hubadilika kama upepo, zikiniacha nikiwa na wasiwasi kuhusu mimi ni nani kwa kweli. Ninatamani kuwa imara, lakini ninahofia kupoteza uwezo wangu wa kinyonga wa kuchangamana na mazingira yoyote.\"  \n",
       "4                                                                        Nimenaswa na mawazo mengi sana, nashindwa kukazia fikira kitu chochote huku akili yangu ikiona mandhari mbaya sana, ikiniacha nikiwa hoi na nikiwa nimelemewa na hofu.  \n",
       "...                                                                                                                                                                                                                                         ...  \n",
       "103483                                                                                       Ninatamani sana kujikumbatia, hata hivyo, vioo vya akili yangu huonyesha sura inayobadilika daima, na kunifanya nipoteze uhakika na kujiona sifai.  \n",
       "103484                                                                                                                \"Angarani yangu ni kubwa mno, inanifanya nishikwe na woga na kushindwa kukazia fikira chochote isipokuwa wasiwasi wangu.\"  \n",
       "103485                                                                                                    Tatizo la Bipolar: Kutokana na msisimuko wenye furaha na kukata tamaa mara moja, kama vile gari linaloning'inia katikati ya barabara.  \n",
       "103486                                                         \"Licha ya jitihada zangu zote, shughuli nyingi na siku za hivi karibuni zinanifanya nijihisi nimenaswa, kana kwamba ninazama katika maji ya madaraka, bila kuwa na ufuo karibu.\"  \n",
       "103487                                                                                               \"Nimevurugika kati ya nitakaye kuwa na mimi ni nani, na hisia zangu zinageuka kama mawimbi, na kunifanya nichanganyikiwe na sina uhakika.\"  \n",
       "\n",
       "[103481 rows x 2 columns]"
      ]
     },
     "execution_count": 8,
     "metadata": {},
     "output_type": "execute_result"
    }
   ],
   "source": [
    "df.dropna(axis=0,inplace=True)\n",
    "df"
   ]
  },
  {
   "cell_type": "code",
   "execution_count": 9,
   "id": "5a05f59c-2944-49a5-b167-a6945ce2ce13",
   "metadata": {},
   "outputs": [
    {
     "data": {
      "text/plain": [
       "status     0\n",
       "text_sw    0\n",
       "dtype: int64"
      ]
     },
     "execution_count": 9,
     "metadata": {},
     "output_type": "execute_result"
    }
   ],
   "source": [
    "df.isnull().sum()"
   ]
  },
  {
   "cell_type": "code",
   "execution_count": 10,
   "id": "940f62e5-f6a8-411e-9e2e-579f0b331be9",
   "metadata": {},
   "outputs": [
    {
     "data": {
      "text/plain": [
       "3148"
      ]
     },
     "execution_count": 10,
     "metadata": {},
     "output_type": "execute_result"
    }
   ],
   "source": [
    "df.duplicated().sum()"
   ]
  },
  {
   "cell_type": "code",
   "execution_count": 11,
   "id": "4bcd72cc-9124-40f0-93c2-f837efd05010",
   "metadata": {},
   "outputs": [
    {
     "data": {
      "text/plain": [
       "0"
      ]
     },
     "execution_count": 11,
     "metadata": {},
     "output_type": "execute_result"
    }
   ],
   "source": [
    "df=df.drop_duplicates()\n",
    "df.duplicated().sum()"
   ]
  },
  {
   "cell_type": "markdown",
   "id": "899c7134-e7f6-47e4-bbe2-955192bad911",
   "metadata": {},
   "source": [
    "### Normalizing + Cleaning"
   ]
  },
  {
   "cell_type": "code",
   "execution_count": 13,
   "id": "d404467e-9995-4723-b90d-ef2b1c8f07c7",
   "metadata": {},
   "outputs": [
    {
     "name": "stderr",
     "output_type": "stream",
     "text": [
      "C:\\Users\\Lenovo\\AppData\\Local\\Temp\\ipykernel_5256\\3755384959.py:2: SettingWithCopyWarning: \n",
      "A value is trying to be set on a copy of a slice from a DataFrame.\n",
      "Try using .loc[row_indexer,col_indexer] = value instead\n",
      "\n",
      "See the caveats in the documentation: https://pandas.pydata.org/pandas-docs/stable/user_guide/indexing.html#returning-a-view-versus-a-copy\n",
      "  df['text_sw'] = df['text_sw'].str.lower().str.strip()\n"
     ]
    },
    {
     "data": {
      "text/html": [
       "<div>\n",
       "<style scoped>\n",
       "    .dataframe tbody tr th:only-of-type {\n",
       "        vertical-align: middle;\n",
       "    }\n",
       "\n",
       "    .dataframe tbody tr th {\n",
       "        vertical-align: top;\n",
       "    }\n",
       "\n",
       "    .dataframe thead th {\n",
       "        text-align: right;\n",
       "    }\n",
       "</style>\n",
       "<table border=\"1\" class=\"dataframe\">\n",
       "  <thead>\n",
       "    <tr style=\"text-align: right;\">\n",
       "      <th></th>\n",
       "      <th>status</th>\n",
       "      <th>text_sw</th>\n",
       "    </tr>\n",
       "  </thead>\n",
       "  <tbody>\n",
       "    <tr>\n",
       "      <th>0</th>\n",
       "      <td>anxiety</td>\n",
       "      <td>\"akili yangu ni hali isiyobadilika ya wasiwasi, na hata kazi rahisi zaidi nahisi kuwa haiwezi kushindwa.\" \"ninakuwa na hofu na mashaka, na kila uamuzi unajisikia kama uwanja wa mabomu ya kutegwa chini ya ardhi unaongojea kulipuka.\"</td>\n",
       "    </tr>\n",
       "    <tr>\n",
       "      <th>1</th>\n",
       "      <td>bipolar</td>\n",
       "      <td>licha ya jua kung'aa na ndege wakiimba nje ya dirisha langu, huzuni yangu inapungua sana, kana kwamba nimenaswa katika abiso isiyo na mwisho.</td>\n",
       "    </tr>\n",
       "    <tr>\n",
       "      <th>2</th>\n",
       "      <td>stress</td>\n",
       "      <td>mimi ninalemewa na madaraka, kila mmoja akitaka uangalifu wangu, hata hivyo nahofu kwamba hata nijaribu kadiri gani, huenda nisiweze kamwe kushinda kazi nyingi mno mbele yangu.</td>\n",
       "    </tr>\n",
       "    <tr>\n",
       "      <th>3</th>\n",
       "      <td>personality disorder</td>\n",
       "      <td>\"hisia zangu hubadilika kama upepo, zikiniacha nikiwa na wasiwasi kuhusu mimi ni nani kwa kweli. ninatamani kuwa imara, lakini ninahofia kupoteza uwezo wangu wa kinyonga wa kuchangamana na mazingira yoyote.\"</td>\n",
       "    </tr>\n",
       "    <tr>\n",
       "      <th>4</th>\n",
       "      <td>anxiety</td>\n",
       "      <td>nimenaswa na mawazo mengi sana, nashindwa kukazia fikira kitu chochote huku akili yangu ikiona mandhari mbaya sana, ikiniacha nikiwa hoi na nikiwa nimelemewa na hofu.</td>\n",
       "    </tr>\n",
       "  </tbody>\n",
       "</table>\n",
       "</div>"
      ],
      "text/plain": [
       "                 status  \\\n",
       "0               anxiety   \n",
       "1               bipolar   \n",
       "2                stress   \n",
       "3  personality disorder   \n",
       "4               anxiety   \n",
       "\n",
       "                                                                                                                                                                                                                                   text_sw  \n",
       "0  \"akili yangu ni hali isiyobadilika ya wasiwasi, na hata kazi rahisi zaidi nahisi kuwa haiwezi kushindwa.\" \"ninakuwa na hofu na mashaka, na kila uamuzi unajisikia kama uwanja wa mabomu ya kutegwa chini ya ardhi unaongojea kulipuka.\"  \n",
       "1                                                                                            licha ya jua kung'aa na ndege wakiimba nje ya dirisha langu, huzuni yangu inapungua sana, kana kwamba nimenaswa katika abiso isiyo na mwisho.  \n",
       "2                                                         mimi ninalemewa na madaraka, kila mmoja akitaka uangalifu wangu, hata hivyo nahofu kwamba hata nijaribu kadiri gani, huenda nisiweze kamwe kushinda kazi nyingi mno mbele yangu.  \n",
       "3                          \"hisia zangu hubadilika kama upepo, zikiniacha nikiwa na wasiwasi kuhusu mimi ni nani kwa kweli. ninatamani kuwa imara, lakini ninahofia kupoteza uwezo wangu wa kinyonga wa kuchangamana na mazingira yoyote.\"  \n",
       "4                                                                   nimenaswa na mawazo mengi sana, nashindwa kukazia fikira kitu chochote huku akili yangu ikiona mandhari mbaya sana, ikiniacha nikiwa hoi na nikiwa nimelemewa na hofu.  "
      ]
     },
     "execution_count": 13,
     "metadata": {},
     "output_type": "execute_result"
    }
   ],
   "source": [
    "#lowercasing\n",
    "df['text_sw'] = df['text_sw'].str.lower().str.strip()\n",
    "df.head()"
   ]
  },
  {
   "cell_type": "code",
   "execution_count": 14,
   "id": "1d0cf407-d977-4a1b-8a7f-c0b22ba1d239",
   "metadata": {},
   "outputs": [
    {
     "name": "stderr",
     "output_type": "stream",
     "text": [
      "C:\\Users\\Lenovo\\AppData\\Local\\Temp\\ipykernel_5256\\3070028284.py:2: SettingWithCopyWarning: \n",
      "A value is trying to be set on a copy of a slice from a DataFrame.\n",
      "Try using .loc[row_indexer,col_indexer] = value instead\n",
      "\n",
      "See the caveats in the documentation: https://pandas.pydata.org/pandas-docs/stable/user_guide/indexing.html#returning-a-view-versus-a-copy\n",
      "  df['text_sw'] = df['text_sw'].str.replace(r'http\\S+|www\\S+|@\\w+|#\\w+', '', regex=True)\n"
     ]
    },
    {
     "data": {
      "text/html": [
       "<div>\n",
       "<style scoped>\n",
       "    .dataframe tbody tr th:only-of-type {\n",
       "        vertical-align: middle;\n",
       "    }\n",
       "\n",
       "    .dataframe tbody tr th {\n",
       "        vertical-align: top;\n",
       "    }\n",
       "\n",
       "    .dataframe thead th {\n",
       "        text-align: right;\n",
       "    }\n",
       "</style>\n",
       "<table border=\"1\" class=\"dataframe\">\n",
       "  <thead>\n",
       "    <tr style=\"text-align: right;\">\n",
       "      <th></th>\n",
       "      <th>status</th>\n",
       "      <th>text_sw</th>\n",
       "    </tr>\n",
       "  </thead>\n",
       "  <tbody>\n",
       "    <tr>\n",
       "      <th>0</th>\n",
       "      <td>anxiety</td>\n",
       "      <td>\"akili yangu ni hali isiyobadilika ya wasiwasi, na hata kazi rahisi zaidi nahisi kuwa haiwezi kushindwa.\" \"ninakuwa na hofu na mashaka, na kila uamuzi unajisikia kama uwanja wa mabomu ya kutegwa chini ya ardhi unaongojea kulipuka.\"</td>\n",
       "    </tr>\n",
       "    <tr>\n",
       "      <th>1</th>\n",
       "      <td>bipolar</td>\n",
       "      <td>licha ya jua kung'aa na ndege wakiimba nje ya dirisha langu, huzuni yangu inapungua sana, kana kwamba nimenaswa katika abiso isiyo na mwisho.</td>\n",
       "    </tr>\n",
       "    <tr>\n",
       "      <th>2</th>\n",
       "      <td>stress</td>\n",
       "      <td>mimi ninalemewa na madaraka, kila mmoja akitaka uangalifu wangu, hata hivyo nahofu kwamba hata nijaribu kadiri gani, huenda nisiweze kamwe kushinda kazi nyingi mno mbele yangu.</td>\n",
       "    </tr>\n",
       "    <tr>\n",
       "      <th>3</th>\n",
       "      <td>personality disorder</td>\n",
       "      <td>\"hisia zangu hubadilika kama upepo, zikiniacha nikiwa na wasiwasi kuhusu mimi ni nani kwa kweli. ninatamani kuwa imara, lakini ninahofia kupoteza uwezo wangu wa kinyonga wa kuchangamana na mazingira yoyote.\"</td>\n",
       "    </tr>\n",
       "    <tr>\n",
       "      <th>4</th>\n",
       "      <td>anxiety</td>\n",
       "      <td>nimenaswa na mawazo mengi sana, nashindwa kukazia fikira kitu chochote huku akili yangu ikiona mandhari mbaya sana, ikiniacha nikiwa hoi na nikiwa nimelemewa na hofu.</td>\n",
       "    </tr>\n",
       "  </tbody>\n",
       "</table>\n",
       "</div>"
      ],
      "text/plain": [
       "                 status  \\\n",
       "0               anxiety   \n",
       "1               bipolar   \n",
       "2                stress   \n",
       "3  personality disorder   \n",
       "4               anxiety   \n",
       "\n",
       "                                                                                                                                                                                                                                   text_sw  \n",
       "0  \"akili yangu ni hali isiyobadilika ya wasiwasi, na hata kazi rahisi zaidi nahisi kuwa haiwezi kushindwa.\" \"ninakuwa na hofu na mashaka, na kila uamuzi unajisikia kama uwanja wa mabomu ya kutegwa chini ya ardhi unaongojea kulipuka.\"  \n",
       "1                                                                                            licha ya jua kung'aa na ndege wakiimba nje ya dirisha langu, huzuni yangu inapungua sana, kana kwamba nimenaswa katika abiso isiyo na mwisho.  \n",
       "2                                                         mimi ninalemewa na madaraka, kila mmoja akitaka uangalifu wangu, hata hivyo nahofu kwamba hata nijaribu kadiri gani, huenda nisiweze kamwe kushinda kazi nyingi mno mbele yangu.  \n",
       "3                          \"hisia zangu hubadilika kama upepo, zikiniacha nikiwa na wasiwasi kuhusu mimi ni nani kwa kweli. ninatamani kuwa imara, lakini ninahofia kupoteza uwezo wangu wa kinyonga wa kuchangamana na mazingira yoyote.\"  \n",
       "4                                                                   nimenaswa na mawazo mengi sana, nashindwa kukazia fikira kitu chochote huku akili yangu ikiona mandhari mbaya sana, ikiniacha nikiwa hoi na nikiwa nimelemewa na hofu.  "
      ]
     },
     "execution_count": 14,
     "metadata": {},
     "output_type": "execute_result"
    }
   ],
   "source": [
    "#removing urls and special characters \n",
    "df['text_sw'] = df['text_sw'].str.replace(r'http\\S+|www\\S+|@\\w+|#\\w+', '', regex=True)\n",
    "df.head()"
   ]
  },
  {
   "cell_type": "markdown",
   "id": "1e5e2944-6261-4b6c-bf87-4c769b7f4216",
   "metadata": {},
   "source": [
    "### Tokenization + Stopword Removal"
   ]
  },
  {
   "cell_type": "code",
   "execution_count": 16,
   "id": "9bd95ffc-85bd-4a1f-bc57-8257b2baff29",
   "metadata": {},
   "outputs": [],
   "source": [
    "from nltk.tokenize import RegexpTokenizer\n",
    "tokenizer = RegexpTokenizer(r\"[a-zA-Z]+(?:'[a-z]+)?\")"
   ]
  },
  {
   "cell_type": "code",
   "execution_count": 17,
   "id": "54d00330-a886-47a0-bc1c-878cba5ef8d3",
   "metadata": {},
   "outputs": [
    {
     "name": "stdout",
     "output_type": "stream",
     "text": [
      "{'tena', 'walikuwa', 'sasa', 'la', 'kutoka', 'pia', 'akasema', 'katika', 'cha', 'watu', 'basi', 'za', 'ng', 'hata', 'mara', 'yangu', 'yao', 'yule', 'kisha', 'kima', 'tu', 'hiyo', 'ni', 'wote', 'zake', 'hapo', 'karibu', 'hadi', 'wake', 'lakini', 'naye', 'wakati', 'huku', 'yake', 'mwenye', 'sauti', 'pamoja', 'kwa', 'kubwa', 'kwamba', 'mmoja', 'na', 'wengine', 'mdogo', 'muda', 'ndani', 'chini', 'ilikuwa', 'bila', 'kwenda', 'moja', 'kuwa', 'kama', 'alisema', 'kwenye', 'baada', 'mkubwa', 'tafadhali', 'wa', 'nini', 'huo', 'vile', 'yeye', 'nonkungu', 'mimi', 'ili', 'juu', 'sana', 'wao', 'kila', 'ya', 'zaidi', 'hivyo', 'alikuwa'}\n"
     ]
    }
   ],
   "source": [
    "\n",
    "Swahili_stopwords=stopwords.stopwords('sw')\n",
    "print(Swahili_stopwords)"
   ]
  },
  {
   "cell_type": "code",
   "execution_count": 18,
   "id": "f3eaf11d-00d5-44cd-9273-9ed47bc34128",
   "metadata": {},
   "outputs": [],
   "source": [
    "#we've combined tokenization and stopword removal.\n",
    "def remove_stopwords(text):\n",
    "    if not isinstance(text, str):  # Ensure it's text\n",
    "        return \"\"\n",
    "    \n",
    "    tokens = tokenizer.tokenize(text)  # lowercase + tokenize\n",
    "    filtered_tokens = [word for word in tokens if word not in Swahili_stopwords]\n",
    "    cleaned_tokens= [word for word in filtered_tokens if len(word) > 1 ]\n",
    "    \n",
    "    return \" \".join(cleaned_tokens)  # join back to text"
   ]
  },
  {
   "cell_type": "code",
   "execution_count": 19,
   "id": "c7f63461-43d2-44af-bd58-e589a5d8b7fb",
   "metadata": {},
   "outputs": [
    {
     "name": "stderr",
     "output_type": "stream",
     "text": [
      "C:\\Users\\Lenovo\\AppData\\Local\\Temp\\ipykernel_5256\\3365046246.py:1: SettingWithCopyWarning: \n",
      "A value is trying to be set on a copy of a slice from a DataFrame.\n",
      "Try using .loc[row_indexer,col_indexer] = value instead\n",
      "\n",
      "See the caveats in the documentation: https://pandas.pydata.org/pandas-docs/stable/user_guide/indexing.html#returning-a-view-versus-a-copy\n",
      "  df['clean_text'] = df['text_sw'].apply(remove_stopwords)\n"
     ]
    },
    {
     "data": {
      "text/html": [
       "<div>\n",
       "<style scoped>\n",
       "    .dataframe tbody tr th:only-of-type {\n",
       "        vertical-align: middle;\n",
       "    }\n",
       "\n",
       "    .dataframe tbody tr th {\n",
       "        vertical-align: top;\n",
       "    }\n",
       "\n",
       "    .dataframe thead th {\n",
       "        text-align: right;\n",
       "    }\n",
       "</style>\n",
       "<table border=\"1\" class=\"dataframe\">\n",
       "  <thead>\n",
       "    <tr style=\"text-align: right;\">\n",
       "      <th></th>\n",
       "      <th>status</th>\n",
       "      <th>text_sw</th>\n",
       "      <th>clean_text</th>\n",
       "    </tr>\n",
       "  </thead>\n",
       "  <tbody>\n",
       "    <tr>\n",
       "      <th>0</th>\n",
       "      <td>anxiety</td>\n",
       "      <td>\"akili yangu ni hali isiyobadilika ya wasiwasi, na hata kazi rahisi zaidi nahisi kuwa haiwezi kushindwa.\" \"ninakuwa na hofu na mashaka, na kila uamuzi unajisikia kama uwanja wa mabomu ya kutegwa chini ya ardhi unaongojea kulipuka.\"</td>\n",
       "      <td>akili hali isiyobadilika wasiwasi kazi rahisi nahisi haiwezi kushindwa ninakuwa hofu mashaka uamuzi unajisikia uwanja mabomu kutegwa ardhi unaongojea kulipuka</td>\n",
       "    </tr>\n",
       "    <tr>\n",
       "      <th>1</th>\n",
       "      <td>bipolar</td>\n",
       "      <td>licha ya jua kung'aa na ndege wakiimba nje ya dirisha langu, huzuni yangu inapungua sana, kana kwamba nimenaswa katika abiso isiyo na mwisho.</td>\n",
       "      <td>licha jua kung'aa ndege wakiimba nje dirisha langu huzuni inapungua kana nimenaswa abiso isiyo mwisho</td>\n",
       "    </tr>\n",
       "    <tr>\n",
       "      <th>2</th>\n",
       "      <td>stress</td>\n",
       "      <td>mimi ninalemewa na madaraka, kila mmoja akitaka uangalifu wangu, hata hivyo nahofu kwamba hata nijaribu kadiri gani, huenda nisiweze kamwe kushinda kazi nyingi mno mbele yangu.</td>\n",
       "      <td>ninalemewa madaraka akitaka uangalifu wangu nahofu nijaribu kadiri gani huenda nisiweze kamwe kushinda kazi nyingi mno mbele</td>\n",
       "    </tr>\n",
       "    <tr>\n",
       "      <th>3</th>\n",
       "      <td>personality disorder</td>\n",
       "      <td>\"hisia zangu hubadilika kama upepo, zikiniacha nikiwa na wasiwasi kuhusu mimi ni nani kwa kweli. ninatamani kuwa imara, lakini ninahofia kupoteza uwezo wangu wa kinyonga wa kuchangamana na mazingira yoyote.\"</td>\n",
       "      <td>hisia zangu hubadilika upepo zikiniacha nikiwa wasiwasi kuhusu nani kweli ninatamani imara ninahofia kupoteza uwezo wangu kinyonga kuchangamana mazingira yoyote</td>\n",
       "    </tr>\n",
       "    <tr>\n",
       "      <th>4</th>\n",
       "      <td>anxiety</td>\n",
       "      <td>nimenaswa na mawazo mengi sana, nashindwa kukazia fikira kitu chochote huku akili yangu ikiona mandhari mbaya sana, ikiniacha nikiwa hoi na nikiwa nimelemewa na hofu.</td>\n",
       "      <td>nimenaswa mawazo mengi nashindwa kukazia fikira kitu chochote akili ikiona mandhari mbaya ikiniacha nikiwa hoi nikiwa nimelemewa hofu</td>\n",
       "    </tr>\n",
       "  </tbody>\n",
       "</table>\n",
       "</div>"
      ],
      "text/plain": [
       "                 status  \\\n",
       "0               anxiety   \n",
       "1               bipolar   \n",
       "2                stress   \n",
       "3  personality disorder   \n",
       "4               anxiety   \n",
       "\n",
       "                                                                                                                                                                                                                                   text_sw  \\\n",
       "0  \"akili yangu ni hali isiyobadilika ya wasiwasi, na hata kazi rahisi zaidi nahisi kuwa haiwezi kushindwa.\" \"ninakuwa na hofu na mashaka, na kila uamuzi unajisikia kama uwanja wa mabomu ya kutegwa chini ya ardhi unaongojea kulipuka.\"   \n",
       "1                                                                                            licha ya jua kung'aa na ndege wakiimba nje ya dirisha langu, huzuni yangu inapungua sana, kana kwamba nimenaswa katika abiso isiyo na mwisho.   \n",
       "2                                                         mimi ninalemewa na madaraka, kila mmoja akitaka uangalifu wangu, hata hivyo nahofu kwamba hata nijaribu kadiri gani, huenda nisiweze kamwe kushinda kazi nyingi mno mbele yangu.   \n",
       "3                          \"hisia zangu hubadilika kama upepo, zikiniacha nikiwa na wasiwasi kuhusu mimi ni nani kwa kweli. ninatamani kuwa imara, lakini ninahofia kupoteza uwezo wangu wa kinyonga wa kuchangamana na mazingira yoyote.\"   \n",
       "4                                                                   nimenaswa na mawazo mengi sana, nashindwa kukazia fikira kitu chochote huku akili yangu ikiona mandhari mbaya sana, ikiniacha nikiwa hoi na nikiwa nimelemewa na hofu.   \n",
       "\n",
       "                                                                                                                                                         clean_text  \n",
       "0    akili hali isiyobadilika wasiwasi kazi rahisi nahisi haiwezi kushindwa ninakuwa hofu mashaka uamuzi unajisikia uwanja mabomu kutegwa ardhi unaongojea kulipuka  \n",
       "1                                                             licha jua kung'aa ndege wakiimba nje dirisha langu huzuni inapungua kana nimenaswa abiso isiyo mwisho  \n",
       "2                                      ninalemewa madaraka akitaka uangalifu wangu nahofu nijaribu kadiri gani huenda nisiweze kamwe kushinda kazi nyingi mno mbele  \n",
       "3  hisia zangu hubadilika upepo zikiniacha nikiwa wasiwasi kuhusu nani kweli ninatamani imara ninahofia kupoteza uwezo wangu kinyonga kuchangamana mazingira yoyote  \n",
       "4                             nimenaswa mawazo mengi nashindwa kukazia fikira kitu chochote akili ikiona mandhari mbaya ikiniacha nikiwa hoi nikiwa nimelemewa hofu  "
      ]
     },
     "execution_count": 19,
     "metadata": {},
     "output_type": "execute_result"
    }
   ],
   "source": [
    "df['clean_text'] = df['text_sw'].apply(remove_stopwords)\n",
    "df.head()"
   ]
  },
  {
   "cell_type": "code",
   "execution_count": 20,
   "id": "22271ea7-6317-4629-95bb-20bece040d23",
   "metadata": {},
   "outputs": [
    {
     "name": "stderr",
     "output_type": "stream",
     "text": [
      "C:\\Users\\Lenovo\\AppData\\Local\\Temp\\ipykernel_5256\\1867447535.py:2: SettingWithCopyWarning: \n",
      "A value is trying to be set on a copy of a slice from a DataFrame.\n",
      "Try using .loc[row_indexer,col_indexer] = value instead\n",
      "\n",
      "See the caveats in the documentation: https://pandas.pydata.org/pandas-docs/stable/user_guide/indexing.html#returning-a-view-versus-a-copy\n",
      "  df['clean_text'] = df['clean_text'].str.replace(r'[^A-Za-z\\s]', '', regex=True)\n"
     ]
    },
    {
     "data": {
      "text/html": [
       "<div>\n",
       "<style scoped>\n",
       "    .dataframe tbody tr th:only-of-type {\n",
       "        vertical-align: middle;\n",
       "    }\n",
       "\n",
       "    .dataframe tbody tr th {\n",
       "        vertical-align: top;\n",
       "    }\n",
       "\n",
       "    .dataframe thead th {\n",
       "        text-align: right;\n",
       "    }\n",
       "</style>\n",
       "<table border=\"1\" class=\"dataframe\">\n",
       "  <thead>\n",
       "    <tr style=\"text-align: right;\">\n",
       "      <th></th>\n",
       "      <th>status</th>\n",
       "      <th>text_sw</th>\n",
       "      <th>clean_text</th>\n",
       "    </tr>\n",
       "  </thead>\n",
       "  <tbody>\n",
       "    <tr>\n",
       "      <th>0</th>\n",
       "      <td>anxiety</td>\n",
       "      <td>\"akili yangu ni hali isiyobadilika ya wasiwasi, na hata kazi rahisi zaidi nahisi kuwa haiwezi kushindwa.\" \"ninakuwa na hofu na mashaka, na kila uamuzi unajisikia kama uwanja wa mabomu ya kutegwa chini ya ardhi unaongojea kulipuka.\"</td>\n",
       "      <td>akili hali isiyobadilika wasiwasi kazi rahisi nahisi haiwezi kushindwa ninakuwa hofu mashaka uamuzi unajisikia uwanja mabomu kutegwa ardhi unaongojea kulipuka</td>\n",
       "    </tr>\n",
       "    <tr>\n",
       "      <th>1</th>\n",
       "      <td>bipolar</td>\n",
       "      <td>licha ya jua kung'aa na ndege wakiimba nje ya dirisha langu, huzuni yangu inapungua sana, kana kwamba nimenaswa katika abiso isiyo na mwisho.</td>\n",
       "      <td>licha jua kungaa ndege wakiimba nje dirisha langu huzuni inapungua kana nimenaswa abiso isiyo mwisho</td>\n",
       "    </tr>\n",
       "    <tr>\n",
       "      <th>2</th>\n",
       "      <td>stress</td>\n",
       "      <td>mimi ninalemewa na madaraka, kila mmoja akitaka uangalifu wangu, hata hivyo nahofu kwamba hata nijaribu kadiri gani, huenda nisiweze kamwe kushinda kazi nyingi mno mbele yangu.</td>\n",
       "      <td>ninalemewa madaraka akitaka uangalifu wangu nahofu nijaribu kadiri gani huenda nisiweze kamwe kushinda kazi nyingi mno mbele</td>\n",
       "    </tr>\n",
       "    <tr>\n",
       "      <th>3</th>\n",
       "      <td>personality disorder</td>\n",
       "      <td>\"hisia zangu hubadilika kama upepo, zikiniacha nikiwa na wasiwasi kuhusu mimi ni nani kwa kweli. ninatamani kuwa imara, lakini ninahofia kupoteza uwezo wangu wa kinyonga wa kuchangamana na mazingira yoyote.\"</td>\n",
       "      <td>hisia zangu hubadilika upepo zikiniacha nikiwa wasiwasi kuhusu nani kweli ninatamani imara ninahofia kupoteza uwezo wangu kinyonga kuchangamana mazingira yoyote</td>\n",
       "    </tr>\n",
       "    <tr>\n",
       "      <th>4</th>\n",
       "      <td>anxiety</td>\n",
       "      <td>nimenaswa na mawazo mengi sana, nashindwa kukazia fikira kitu chochote huku akili yangu ikiona mandhari mbaya sana, ikiniacha nikiwa hoi na nikiwa nimelemewa na hofu.</td>\n",
       "      <td>nimenaswa mawazo mengi nashindwa kukazia fikira kitu chochote akili ikiona mandhari mbaya ikiniacha nikiwa hoi nikiwa nimelemewa hofu</td>\n",
       "    </tr>\n",
       "  </tbody>\n",
       "</table>\n",
       "</div>"
      ],
      "text/plain": [
       "                 status  \\\n",
       "0               anxiety   \n",
       "1               bipolar   \n",
       "2                stress   \n",
       "3  personality disorder   \n",
       "4               anxiety   \n",
       "\n",
       "                                                                                                                                                                                                                                   text_sw  \\\n",
       "0  \"akili yangu ni hali isiyobadilika ya wasiwasi, na hata kazi rahisi zaidi nahisi kuwa haiwezi kushindwa.\" \"ninakuwa na hofu na mashaka, na kila uamuzi unajisikia kama uwanja wa mabomu ya kutegwa chini ya ardhi unaongojea kulipuka.\"   \n",
       "1                                                                                            licha ya jua kung'aa na ndege wakiimba nje ya dirisha langu, huzuni yangu inapungua sana, kana kwamba nimenaswa katika abiso isiyo na mwisho.   \n",
       "2                                                         mimi ninalemewa na madaraka, kila mmoja akitaka uangalifu wangu, hata hivyo nahofu kwamba hata nijaribu kadiri gani, huenda nisiweze kamwe kushinda kazi nyingi mno mbele yangu.   \n",
       "3                          \"hisia zangu hubadilika kama upepo, zikiniacha nikiwa na wasiwasi kuhusu mimi ni nani kwa kweli. ninatamani kuwa imara, lakini ninahofia kupoteza uwezo wangu wa kinyonga wa kuchangamana na mazingira yoyote.\"   \n",
       "4                                                                   nimenaswa na mawazo mengi sana, nashindwa kukazia fikira kitu chochote huku akili yangu ikiona mandhari mbaya sana, ikiniacha nikiwa hoi na nikiwa nimelemewa na hofu.   \n",
       "\n",
       "                                                                                                                                                         clean_text  \n",
       "0    akili hali isiyobadilika wasiwasi kazi rahisi nahisi haiwezi kushindwa ninakuwa hofu mashaka uamuzi unajisikia uwanja mabomu kutegwa ardhi unaongojea kulipuka  \n",
       "1                                                              licha jua kungaa ndege wakiimba nje dirisha langu huzuni inapungua kana nimenaswa abiso isiyo mwisho  \n",
       "2                                      ninalemewa madaraka akitaka uangalifu wangu nahofu nijaribu kadiri gani huenda nisiweze kamwe kushinda kazi nyingi mno mbele  \n",
       "3  hisia zangu hubadilika upepo zikiniacha nikiwa wasiwasi kuhusu nani kweli ninatamani imara ninahofia kupoteza uwezo wangu kinyonga kuchangamana mazingira yoyote  \n",
       "4                             nimenaswa mawazo mengi nashindwa kukazia fikira kitu chochote akili ikiona mandhari mbaya ikiniacha nikiwa hoi nikiwa nimelemewa hofu  "
      ]
     },
     "execution_count": 20,
     "metadata": {},
     "output_type": "execute_result"
    }
   ],
   "source": [
    "#removing punctuation-\n",
    "df['clean_text'] = df['clean_text'].str.replace(r'[^A-Za-z\\s]', '', regex=True)\n",
    "df.head()"
   ]
  },
  {
   "cell_type": "markdown",
   "id": "ebdd4277-ab6d-45c3-876e-79a511838651",
   "metadata": {},
   "source": [
    "## Creating our own lemmatization library "
   ]
  },
  {
   "cell_type": "code",
   "execution_count": 22,
   "id": "56200da4-6c6a-4b13-8a90-785882e8e0fb",
   "metadata": {},
   "outputs": [
    {
     "data": {
      "text/plain": [
       "status        0\n",
       "text_sw       0\n",
       "clean_text    0\n",
       "dtype: int64"
      ]
     },
     "execution_count": 22,
     "metadata": {},
     "output_type": "execute_result"
    }
   ],
   "source": [
    "df.isnull().sum()"
   ]
  },
  {
   "cell_type": "code",
   "execution_count": 23,
   "id": "e513101e-c854-4527-b9b0-aa3817556ec1",
   "metadata": {},
   "outputs": [
    {
     "name": "stdout",
     "output_type": "stream",
     "text": [
      "Requirement already satisfied: tf-keras in c:\\users\\lenovo\\anaconda3\\lib\\site-packages (2.20.1)\n",
      "Requirement already satisfied: tensorflow<2.21,>=2.20 in c:\\users\\lenovo\\anaconda3\\lib\\site-packages (from tf-keras) (2.20.0)\n",
      "Requirement already satisfied: absl-py>=1.0.0 in c:\\users\\lenovo\\anaconda3\\lib\\site-packages (from tensorflow<2.21,>=2.20->tf-keras) (2.3.1)\n",
      "Requirement already satisfied: astunparse>=1.6.0 in c:\\users\\lenovo\\anaconda3\\lib\\site-packages (from tensorflow<2.21,>=2.20->tf-keras) (1.6.3)\n",
      "Requirement already satisfied: flatbuffers>=24.3.25 in c:\\users\\lenovo\\anaconda3\\lib\\site-packages (from tensorflow<2.21,>=2.20->tf-keras) (25.9.23)\n",
      "Requirement already satisfied: gast!=0.5.0,!=0.5.1,!=0.5.2,>=0.2.1 in c:\\users\\lenovo\\anaconda3\\lib\\site-packages (from tensorflow<2.21,>=2.20->tf-keras) (0.6.0)\n",
      "Requirement already satisfied: google_pasta>=0.1.1 in c:\\users\\lenovo\\anaconda3\\lib\\site-packages (from tensorflow<2.21,>=2.20->tf-keras) (0.2.0)\n",
      "Requirement already satisfied: libclang>=13.0.0 in c:\\users\\lenovo\\anaconda3\\lib\\site-packages (from tensorflow<2.21,>=2.20->tf-keras) (18.1.1)\n",
      "Requirement already satisfied: opt_einsum>=2.3.2 in c:\\users\\lenovo\\anaconda3\\lib\\site-packages (from tensorflow<2.21,>=2.20->tf-keras) (3.4.0)\n",
      "Requirement already satisfied: packaging in c:\\users\\lenovo\\anaconda3\\lib\\site-packages (from tensorflow<2.21,>=2.20->tf-keras) (24.1)\n",
      "Requirement already satisfied: protobuf>=5.28.0 in c:\\users\\lenovo\\anaconda3\\lib\\site-packages (from tensorflow<2.21,>=2.20->tf-keras) (6.32.1)\n",
      "Requirement already satisfied: requests<3,>=2.21.0 in c:\\users\\lenovo\\anaconda3\\lib\\site-packages (from tensorflow<2.21,>=2.20->tf-keras) (2.32.3)\n",
      "Requirement already satisfied: setuptools in c:\\users\\lenovo\\anaconda3\\lib\\site-packages (from tensorflow<2.21,>=2.20->tf-keras) (75.1.0)\n",
      "Requirement already satisfied: six>=1.12.0 in c:\\users\\lenovo\\anaconda3\\lib\\site-packages (from tensorflow<2.21,>=2.20->tf-keras) (1.16.0)\n",
      "Requirement already satisfied: termcolor>=1.1.0 in c:\\users\\lenovo\\anaconda3\\lib\\site-packages (from tensorflow<2.21,>=2.20->tf-keras) (3.1.0)\n",
      "Requirement already satisfied: typing_extensions>=3.6.6 in c:\\users\\lenovo\\anaconda3\\lib\\site-packages (from tensorflow<2.21,>=2.20->tf-keras) (4.15.0)\n",
      "Requirement already satisfied: wrapt>=1.11.0 in c:\\users\\lenovo\\anaconda3\\lib\\site-packages (from tensorflow<2.21,>=2.20->tf-keras) (1.14.1)\n",
      "Requirement already satisfied: grpcio<2.0,>=1.24.3 in c:\\users\\lenovo\\anaconda3\\lib\\site-packages (from tensorflow<2.21,>=2.20->tf-keras) (1.75.1)\n",
      "Requirement already satisfied: tensorboard~=2.20.0 in c:\\users\\lenovo\\anaconda3\\lib\\site-packages (from tensorflow<2.21,>=2.20->tf-keras) (2.20.0)\n",
      "Requirement already satisfied: keras>=3.10.0 in c:\\users\\lenovo\\anaconda3\\lib\\site-packages (from tensorflow<2.21,>=2.20->tf-keras) (3.11.3)\n",
      "Requirement already satisfied: numpy>=1.26.0 in c:\\users\\lenovo\\anaconda3\\lib\\site-packages (from tensorflow<2.21,>=2.20->tf-keras) (1.26.4)\n",
      "Requirement already satisfied: h5py>=3.11.0 in c:\\users\\lenovo\\anaconda3\\lib\\site-packages (from tensorflow<2.21,>=2.20->tf-keras) (3.11.0)\n",
      "Requirement already satisfied: ml_dtypes<1.0.0,>=0.5.1 in c:\\users\\lenovo\\anaconda3\\lib\\site-packages (from tensorflow<2.21,>=2.20->tf-keras) (0.5.3)\n",
      "Requirement already satisfied: wheel<1.0,>=0.23.0 in c:\\users\\lenovo\\anaconda3\\lib\\site-packages (from astunparse>=1.6.0->tensorflow<2.21,>=2.20->tf-keras) (0.44.0)\n",
      "Requirement already satisfied: rich in c:\\users\\lenovo\\anaconda3\\lib\\site-packages (from keras>=3.10.0->tensorflow<2.21,>=2.20->tf-keras) (13.7.1)\n",
      "Requirement already satisfied: namex in c:\\users\\lenovo\\anaconda3\\lib\\site-packages (from keras>=3.10.0->tensorflow<2.21,>=2.20->tf-keras) (0.1.0)\n",
      "Requirement already satisfied: optree in c:\\users\\lenovo\\anaconda3\\lib\\site-packages (from keras>=3.10.0->tensorflow<2.21,>=2.20->tf-keras) (0.17.0)\n",
      "Requirement already satisfied: charset-normalizer<4,>=2 in c:\\users\\lenovo\\anaconda3\\lib\\site-packages (from requests<3,>=2.21.0->tensorflow<2.21,>=2.20->tf-keras) (3.3.2)\n",
      "Requirement already satisfied: idna<4,>=2.5 in c:\\users\\lenovo\\anaconda3\\lib\\site-packages (from requests<3,>=2.21.0->tensorflow<2.21,>=2.20->tf-keras) (3.7)\n",
      "Requirement already satisfied: urllib3<3,>=1.21.1 in c:\\users\\lenovo\\anaconda3\\lib\\site-packages (from requests<3,>=2.21.0->tensorflow<2.21,>=2.20->tf-keras) (2.2.3)\n",
      "Requirement already satisfied: certifi>=2017.4.17 in c:\\users\\lenovo\\anaconda3\\lib\\site-packages (from requests<3,>=2.21.0->tensorflow<2.21,>=2.20->tf-keras) (2025.10.5)\n",
      "Requirement already satisfied: markdown>=2.6.8 in c:\\users\\lenovo\\anaconda3\\lib\\site-packages (from tensorboard~=2.20.0->tensorflow<2.21,>=2.20->tf-keras) (3.4.1)\n",
      "Requirement already satisfied: pillow in c:\\users\\lenovo\\anaconda3\\lib\\site-packages (from tensorboard~=2.20.0->tensorflow<2.21,>=2.20->tf-keras) (10.4.0)\n",
      "Requirement already satisfied: tensorboard-data-server<0.8.0,>=0.7.0 in c:\\users\\lenovo\\anaconda3\\lib\\site-packages (from tensorboard~=2.20.0->tensorflow<2.21,>=2.20->tf-keras) (0.7.2)\n",
      "Requirement already satisfied: werkzeug>=1.0.1 in c:\\users\\lenovo\\anaconda3\\lib\\site-packages (from tensorboard~=2.20.0->tensorflow<2.21,>=2.20->tf-keras) (3.0.3)\n",
      "Requirement already satisfied: MarkupSafe>=2.1.1 in c:\\users\\lenovo\\anaconda3\\lib\\site-packages (from werkzeug>=1.0.1->tensorboard~=2.20.0->tensorflow<2.21,>=2.20->tf-keras) (2.1.3)\n",
      "Requirement already satisfied: markdown-it-py>=2.2.0 in c:\\users\\lenovo\\anaconda3\\lib\\site-packages (from rich->keras>=3.10.0->tensorflow<2.21,>=2.20->tf-keras) (2.2.0)\n",
      "Requirement already satisfied: pygments<3.0.0,>=2.13.0 in c:\\users\\lenovo\\anaconda3\\lib\\site-packages (from rich->keras>=3.10.0->tensorflow<2.21,>=2.20->tf-keras) (2.15.1)\n",
      "Requirement already satisfied: mdurl~=0.1 in c:\\users\\lenovo\\anaconda3\\lib\\site-packages (from markdown-it-py>=2.2.0->rich->keras>=3.10.0->tensorflow<2.21,>=2.20->tf-keras) (0.1.0)\n"
     ]
    }
   ],
   "source": [
    "!pip install tf-keras"
   ]
  },
  {
   "cell_type": "code",
   "execution_count": 24,
   "id": "dc989827-d05c-48fe-a6d2-4c4bbb07f639",
   "metadata": {},
   "outputs": [],
   "source": [
    "def swahili_lemma(word):\n",
    "    \"\"\"\n",
    "    - We avoid stripping single-letter vowel endings (a, e, i, o, u),\n",
    "      because those are commonly part of the verb lemma (e.g., \"kula\", \"penda\").\n",
    "    - remove multiple prefixes and multi-letter suffixes.\n",
    "    - Longer affixes are removed first to avoid partial/ambiguous matches.\n",
    "    \"\"\"\n",
    "\n",
    "    # # Handle common relative or negation patterns\n",
    "    # word = re.sub(r'^(isiyo|siyo|isiy|si)', '', word)\n",
    "\n",
    "    # Common Swahili prefixes (includes compound/tense forms).\n",
    "    prefixes = [\n",
    "        \"nitaku\", \"tutaku\", \"tutakuwa\", \"atakimb\", \"nilik\", \"tulik\", \"walik\", \"alik\", \"ulik\",\n",
    "        \"nita\", \"tuta\", \"wata\", \"uta\", \"ata\", \"mta\",\"wana\",\"isiyo\",\"siyo\",\"isiy\",\"si\",\n",
    "        \"nili\", \"tuli\", \"wali\", \"uli\", \"ali\", \"mli\",\"kuli\",\n",
    "        \"ame\", \"ume\", \"tume\", \"wame\",\"tuna\",\"nime\",\"waki\",\"ziki\", \n",
    "        \"ni\", \"u\", \"tu\", \"m\", \"wa\", \"ku\", \"ki\", \"ta\"\n",
    "    ]\n",
    "\n",
    "    # Suffixes: multi-letter endings we are willing to strip.\n",
    "    # NOTE: single-letter vowels 'a','e','i','o','u' are intentionally excluded,\n",
    "    # because they are often part of the lemma for Swahili verbs.\n",
    "    suffixes = [\n",
    "        \"isha\", \"esha\", \"ana\", \"eni\", \"eniwa\", \"wa\", \"ye\", \"ni\", \"ia\", \"io\", \"uo\", \"ku\", \"sha\"\n",
    "    ]\n",
    "\n",
    "    # Remove multiple prefixes:\n",
    "    prefix_removed = True\n",
    "    while prefix_removed:\n",
    "        prefix_removed = False\n",
    "        # sort by length desc to remove longer matches first (e.g., \"nilik\" before \"ni\")\n",
    "        for p in sorted(prefixes, key=len, reverse=True):\n",
    "            if word.startswith(p) and len(word) > len(p) + 2:\n",
    "                # strip the prefix\n",
    "                word = word[len(p):]\n",
    "                prefix_removed = True\n",
    "                break  # restart prefix scanning\n",
    "\n",
    "    # Remove multiple suffixes:\n",
    "    suffix_removed = True\n",
    "    while suffix_removed:\n",
    "        suffix_removed = False\n",
    "        # sort by length desc so we remove \"eniwa\" before \"wa\"\n",
    "        for s in sorted(suffixes, key=len, reverse=True):\n",
    "            if word.endswith(s) and len(word) > len(s) + 2:\n",
    "                # strip the suffix\n",
    "                word = word[:-len(s)]\n",
    "                suffix_removed = True\n",
    "                break  # restart suffix scanning\n",
    "\n",
    "    return word"
   ]
  },
  {
   "cell_type": "code",
   "execution_count": 25,
   "id": "eb6faada-2148-411a-be29-2093da5adc2e",
   "metadata": {},
   "outputs": [
    {
     "name": "stderr",
     "output_type": "stream",
     "text": [
      "C:\\Users\\Lenovo\\AppData\\Local\\Temp\\ipykernel_5256\\1193860449.py:1: SettingWithCopyWarning: \n",
      "A value is trying to be set on a copy of a slice from a DataFrame.\n",
      "Try using .loc[row_indexer,col_indexer] = value instead\n",
      "\n",
      "See the caveats in the documentation: https://pandas.pydata.org/pandas-docs/stable/user_guide/indexing.html#returning-a-view-versus-a-copy\n",
      "  df['lemma_text'] = df['clean_text'].apply(swahili_lemma)\n"
     ]
    },
    {
     "data": {
      "text/html": [
       "<div>\n",
       "<style scoped>\n",
       "    .dataframe tbody tr th:only-of-type {\n",
       "        vertical-align: middle;\n",
       "    }\n",
       "\n",
       "    .dataframe tbody tr th {\n",
       "        vertical-align: top;\n",
       "    }\n",
       "\n",
       "    .dataframe thead th {\n",
       "        text-align: right;\n",
       "    }\n",
       "</style>\n",
       "<table border=\"1\" class=\"dataframe\">\n",
       "  <thead>\n",
       "    <tr style=\"text-align: right;\">\n",
       "      <th></th>\n",
       "      <th>status</th>\n",
       "      <th>text_sw</th>\n",
       "      <th>clean_text</th>\n",
       "      <th>lemma_text</th>\n",
       "    </tr>\n",
       "  </thead>\n",
       "  <tbody>\n",
       "    <tr>\n",
       "      <th>0</th>\n",
       "      <td>anxiety</td>\n",
       "      <td>\"akili yangu ni hali isiyobadilika ya wasiwasi, na hata kazi rahisi zaidi nahisi kuwa haiwezi kushindwa.\" \"ninakuwa na hofu na mashaka, na kila uamuzi unajisikia kama uwanja wa mabomu ya kutegwa chini ya ardhi unaongojea kulipuka.\"</td>\n",
       "      <td>akili hali isiyobadilika wasiwasi kazi rahisi nahisi haiwezi kushindwa ninakuwa hofu mashaka uamuzi unajisikia uwanja mabomu kutegwa ardhi unaongojea kulipuka</td>\n",
       "      <td>akili hali isiyobadilika wasiwasi kazi rahisi nahisi haiwezi kushindwa ninakuwa hofu mashaka uamuzi unajisikia uwanja mabomu kutegwa ardhi unaongojea kulipuka</td>\n",
       "    </tr>\n",
       "    <tr>\n",
       "      <th>1</th>\n",
       "      <td>bipolar</td>\n",
       "      <td>licha ya jua kung'aa na ndege wakiimba nje ya dirisha langu, huzuni yangu inapungua sana, kana kwamba nimenaswa katika abiso isiyo na mwisho.</td>\n",
       "      <td>licha jua kungaa ndege wakiimba nje dirisha langu huzuni inapungua kana nimenaswa abiso isiyo mwisho</td>\n",
       "      <td>licha jua kungaa ndege wakiimba nje dirisha langu huzuni inapungua kana nimenaswa abiso isiyo mwisho</td>\n",
       "    </tr>\n",
       "    <tr>\n",
       "      <th>2</th>\n",
       "      <td>stress</td>\n",
       "      <td>mimi ninalemewa na madaraka, kila mmoja akitaka uangalifu wangu, hata hivyo nahofu kwamba hata nijaribu kadiri gani, huenda nisiweze kamwe kushinda kazi nyingi mno mbele yangu.</td>\n",
       "      <td>ninalemewa madaraka akitaka uangalifu wangu nahofu nijaribu kadiri gani huenda nisiweze kamwe kushinda kazi nyingi mno mbele</td>\n",
       "      <td>nalemewa madaraka akitaka uangalifu wangu nahofu nijaribu kadiri gani huenda nisiweze kamwe kushinda kazi nyingi mno mbele</td>\n",
       "    </tr>\n",
       "    <tr>\n",
       "      <th>3</th>\n",
       "      <td>personality disorder</td>\n",
       "      <td>\"hisia zangu hubadilika kama upepo, zikiniacha nikiwa na wasiwasi kuhusu mimi ni nani kwa kweli. ninatamani kuwa imara, lakini ninahofia kupoteza uwezo wangu wa kinyonga wa kuchangamana na mazingira yoyote.\"</td>\n",
       "      <td>hisia zangu hubadilika upepo zikiniacha nikiwa wasiwasi kuhusu nani kweli ninatamani imara ninahofia kupoteza uwezo wangu kinyonga kuchangamana mazingira yoyote</td>\n",
       "      <td>hisia zangu hubadilika upepo zikiniacha nikiwa wasiwasi kuhusu nani kweli ninatamani imara ninahofia kupoteza uwezo wangu kinyonga kuchangamana mazingira yoyote</td>\n",
       "    </tr>\n",
       "    <tr>\n",
       "      <th>4</th>\n",
       "      <td>anxiety</td>\n",
       "      <td>nimenaswa na mawazo mengi sana, nashindwa kukazia fikira kitu chochote huku akili yangu ikiona mandhari mbaya sana, ikiniacha nikiwa hoi na nikiwa nimelemewa na hofu.</td>\n",
       "      <td>nimenaswa mawazo mengi nashindwa kukazia fikira kitu chochote akili ikiona mandhari mbaya ikiniacha nikiwa hoi nikiwa nimelemewa hofu</td>\n",
       "      <td>naswa mawazo mengi nashindwa kukazia fikira kitu chochote akili ikiona mandhari mbaya ikiniacha nikiwa hoi nikiwa nimelemewa hofu</td>\n",
       "    </tr>\n",
       "    <tr>\n",
       "      <th>5</th>\n",
       "      <td>bipolar</td>\n",
       "      <td>licha ya jua kung'aa kwa nje, huzuni yangu inapungua leo, na hilo hufanya nijihisi kuwa hoi hata katika mambo madogo - madogo.</td>\n",
       "      <td>licha jua kungaa nje huzuni inapungua leo hilo hufanya nijihisi hoi mambo madogo madogo</td>\n",
       "      <td>licha jua kungaa nje huzuni inapungua leo hilo hufanya nijihisi hoi mambo madogo madogo</td>\n",
       "    </tr>\n",
       "    <tr>\n",
       "      <th>6</th>\n",
       "      <td>stress</td>\n",
       "      <td>\"ninalemewa na kazi na madaraka, kila mmoja anasisitiza uangalifu wangu, hata hivyo naona ni kama siwezi kuendelea, shinikizo linaendelea bila kukoma, na akili na mwili wangu umechoka.\"</td>\n",
       "      <td>ninalemewa kazi madaraka anasisitiza uangalifu wangu naona siwezi kuendelea shinikizo linaendelea kukoma akili mwili wangu umechoka</td>\n",
       "      <td>nalemewa kazi madaraka anasisitiza uangalifu wangu naona siwezi kuendelea shinikizo linaendelea kukoma akili mwili wangu umechoka</td>\n",
       "    </tr>\n",
       "    <tr>\n",
       "      <th>7</th>\n",
       "      <td>personality disorder</td>\n",
       "      <td>\"mimi nataka kuji ukweli mwenyewe, lakini mimi ni nani, kwa kweli? kila siku huleta kinyago kipya cha kufunika uso, mtu mpya.</td>\n",
       "      <td>nataka kuji ukweli mwenyewe nani kweli siku huleta kinyago kipya kufunika uso mtu mpya</td>\n",
       "      <td>nataka kuji ukweli mwenyewe nani kweli siku huleta kinyago kipya kufunika uso mtu mpya</td>\n",
       "    </tr>\n",
       "    <tr>\n",
       "      <th>8</th>\n",
       "      <td>anxiety</td>\n",
       "      <td>\"kila dakika ni uwanja wa vita katika akili yangu. hofu ya kufanya kosa ni kubwa, na mawazo yangu yakaharibika kabisa, na kunifanya nihisi nimenaswa na hoi.\"</td>\n",
       "      <td>dakika uwanja vita akili hofu kufanya kosa mawazo yakaharibika kabisa kunifanya nihisi nimenaswa hoi</td>\n",
       "      <td>dakika uwanja vita akili hofu kufanya kosa mawazo yakaharibika kabisa kunifanya nihisi nimenaswa hoi</td>\n",
       "    </tr>\n",
       "    <tr>\n",
       "      <th>9</th>\n",
       "      <td>bipolar</td>\n",
       "      <td>mfano: asubuhi hii, nilihisi ubunifu, nikiwa nimejawa na mawazo mapya na msukumo. lakini sasa, kwa kadiri siku inavyoendelea, nguvu zangu zinapungua, na uwezekano wa mara moja unashindwa.</td>\n",
       "      <td>mfano asubuhi hii nilihisi ubunifu nikiwa nimejawa mawazo mapya msukumo kadiri siku inavyoendelea nguvu zangu zinapungua uwezekano unashindwa</td>\n",
       "      <td>fano asubuhi hii nilihisi ubunifu nikiwa nimejawa mawazo mapya msukumo kadiri siku inavyoendelea nguvu zangu zinapungua uwezekano unashind</td>\n",
       "    </tr>\n",
       "  </tbody>\n",
       "</table>\n",
       "</div>"
      ],
      "text/plain": [
       "                 status  \\\n",
       "0               anxiety   \n",
       "1               bipolar   \n",
       "2                stress   \n",
       "3  personality disorder   \n",
       "4               anxiety   \n",
       "5               bipolar   \n",
       "6                stress   \n",
       "7  personality disorder   \n",
       "8               anxiety   \n",
       "9               bipolar   \n",
       "\n",
       "                                                                                                                                                                                                                                   text_sw  \\\n",
       "0  \"akili yangu ni hali isiyobadilika ya wasiwasi, na hata kazi rahisi zaidi nahisi kuwa haiwezi kushindwa.\" \"ninakuwa na hofu na mashaka, na kila uamuzi unajisikia kama uwanja wa mabomu ya kutegwa chini ya ardhi unaongojea kulipuka.\"   \n",
       "1                                                                                            licha ya jua kung'aa na ndege wakiimba nje ya dirisha langu, huzuni yangu inapungua sana, kana kwamba nimenaswa katika abiso isiyo na mwisho.   \n",
       "2                                                         mimi ninalemewa na madaraka, kila mmoja akitaka uangalifu wangu, hata hivyo nahofu kwamba hata nijaribu kadiri gani, huenda nisiweze kamwe kushinda kazi nyingi mno mbele yangu.   \n",
       "3                          \"hisia zangu hubadilika kama upepo, zikiniacha nikiwa na wasiwasi kuhusu mimi ni nani kwa kweli. ninatamani kuwa imara, lakini ninahofia kupoteza uwezo wangu wa kinyonga wa kuchangamana na mazingira yoyote.\"   \n",
       "4                                                                   nimenaswa na mawazo mengi sana, nashindwa kukazia fikira kitu chochote huku akili yangu ikiona mandhari mbaya sana, ikiniacha nikiwa hoi na nikiwa nimelemewa na hofu.   \n",
       "5                                                                                                           licha ya jua kung'aa kwa nje, huzuni yangu inapungua leo, na hilo hufanya nijihisi kuwa hoi hata katika mambo madogo - madogo.   \n",
       "6                                                \"ninalemewa na kazi na madaraka, kila mmoja anasisitiza uangalifu wangu, hata hivyo naona ni kama siwezi kuendelea, shinikizo linaendelea bila kukoma, na akili na mwili wangu umechoka.\"   \n",
       "7                                                                                                            \"mimi nataka kuji ukweli mwenyewe, lakini mimi ni nani, kwa kweli? kila siku huleta kinyago kipya cha kufunika uso, mtu mpya.   \n",
       "8                                                                            \"kila dakika ni uwanja wa vita katika akili yangu. hofu ya kufanya kosa ni kubwa, na mawazo yangu yakaharibika kabisa, na kunifanya nihisi nimenaswa na hoi.\"   \n",
       "9                                              mfano: asubuhi hii, nilihisi ubunifu, nikiwa nimejawa na mawazo mapya na msukumo. lakini sasa, kwa kadiri siku inavyoendelea, nguvu zangu zinapungua, na uwezekano wa mara moja unashindwa.   \n",
       "\n",
       "                                                                                                                                                         clean_text  \\\n",
       "0    akili hali isiyobadilika wasiwasi kazi rahisi nahisi haiwezi kushindwa ninakuwa hofu mashaka uamuzi unajisikia uwanja mabomu kutegwa ardhi unaongojea kulipuka   \n",
       "1                                                              licha jua kungaa ndege wakiimba nje dirisha langu huzuni inapungua kana nimenaswa abiso isiyo mwisho   \n",
       "2                                      ninalemewa madaraka akitaka uangalifu wangu nahofu nijaribu kadiri gani huenda nisiweze kamwe kushinda kazi nyingi mno mbele   \n",
       "3  hisia zangu hubadilika upepo zikiniacha nikiwa wasiwasi kuhusu nani kweli ninatamani imara ninahofia kupoteza uwezo wangu kinyonga kuchangamana mazingira yoyote   \n",
       "4                             nimenaswa mawazo mengi nashindwa kukazia fikira kitu chochote akili ikiona mandhari mbaya ikiniacha nikiwa hoi nikiwa nimelemewa hofu   \n",
       "5                                                                           licha jua kungaa nje huzuni inapungua leo hilo hufanya nijihisi hoi mambo madogo madogo   \n",
       "6                               ninalemewa kazi madaraka anasisitiza uangalifu wangu naona siwezi kuendelea shinikizo linaendelea kukoma akili mwili wangu umechoka   \n",
       "7                                                                            nataka kuji ukweli mwenyewe nani kweli siku huleta kinyago kipya kufunika uso mtu mpya   \n",
       "8                                                              dakika uwanja vita akili hofu kufanya kosa mawazo yakaharibika kabisa kunifanya nihisi nimenaswa hoi   \n",
       "9                     mfano asubuhi hii nilihisi ubunifu nikiwa nimejawa mawazo mapya msukumo kadiri siku inavyoendelea nguvu zangu zinapungua uwezekano unashindwa   \n",
       "\n",
       "                                                                                                                                                         lemma_text  \n",
       "0    akili hali isiyobadilika wasiwasi kazi rahisi nahisi haiwezi kushindwa ninakuwa hofu mashaka uamuzi unajisikia uwanja mabomu kutegwa ardhi unaongojea kulipuka  \n",
       "1                                                              licha jua kungaa ndege wakiimba nje dirisha langu huzuni inapungua kana nimenaswa abiso isiyo mwisho  \n",
       "2                                        nalemewa madaraka akitaka uangalifu wangu nahofu nijaribu kadiri gani huenda nisiweze kamwe kushinda kazi nyingi mno mbele  \n",
       "3  hisia zangu hubadilika upepo zikiniacha nikiwa wasiwasi kuhusu nani kweli ninatamani imara ninahofia kupoteza uwezo wangu kinyonga kuchangamana mazingira yoyote  \n",
       "4                                 naswa mawazo mengi nashindwa kukazia fikira kitu chochote akili ikiona mandhari mbaya ikiniacha nikiwa hoi nikiwa nimelemewa hofu  \n",
       "5                                                                           licha jua kungaa nje huzuni inapungua leo hilo hufanya nijihisi hoi mambo madogo madogo  \n",
       "6                                 nalemewa kazi madaraka anasisitiza uangalifu wangu naona siwezi kuendelea shinikizo linaendelea kukoma akili mwili wangu umechoka  \n",
       "7                                                                            nataka kuji ukweli mwenyewe nani kweli siku huleta kinyago kipya kufunika uso mtu mpya  \n",
       "8                                                              dakika uwanja vita akili hofu kufanya kosa mawazo yakaharibika kabisa kunifanya nihisi nimenaswa hoi  \n",
       "9                        fano asubuhi hii nilihisi ubunifu nikiwa nimejawa mawazo mapya msukumo kadiri siku inavyoendelea nguvu zangu zinapungua uwezekano unashind  "
      ]
     },
     "execution_count": 25,
     "metadata": {},
     "output_type": "execute_result"
    }
   ],
   "source": [
    "df['lemma_text'] = df['clean_text'].apply(swahili_lemma)\n",
    "df.head(10)"
   ]
  },
  {
   "cell_type": "code",
   "execution_count": 26,
   "id": "f0b86048-e503-44f1-a7a8-aac5cb1b497f",
   "metadata": {},
   "outputs": [],
   "source": [
    "# from transformers import pipeline\n",
    "\n",
    "# # Load the Masakhane model for Swahili\n",
    "# # This model is a multi-task model that includes lemmatization\n",
    "# model_name = \"masakhane/swahili-pos-tagger-afroxlmr\"\n",
    "# lemmatizer = pipeline(\"token-classification\", model=model_name, aggregation_strategy=\"simple\")\n",
    "\n",
    "# text = \"Wanafunzi walitembea shuleni.\"\n",
    "# result = lemmatizer(text)\n",
    "\n",
    "# # The output will include both the word and its predicted lemma (depending on the pipeline's configuration)\n",
    "# # Further processing may be needed to extract only the lemma.\n",
    "# for token in result:\n",
    "#     print(f\"Word: {token['word']}, POS: {token['entity_group']}\")"
   ]
  },
  {
   "cell_type": "code",
   "execution_count": 27,
   "id": "8651db41-1509-4ab4-b1d1-2ff0b769e5c4",
   "metadata": {},
   "outputs": [],
   "source": [
    "# !pip install simplemma"
   ]
  },
  {
   "cell_type": "code",
   "execution_count": 28,
   "id": "7d4f7ce8-7c04-4ce9-b6bf-f9adcb33a70b",
   "metadata": {},
   "outputs": [
    {
     "ename": "IndentationError",
     "evalue": "unexpected indent (1825747913.py, line 24)",
     "output_type": "error",
     "traceback": [
      "\u001b[1;36m  Cell \u001b[1;32mIn[28], line 24\u001b[1;36m\u001b[0m\n\u001b[1;33m    ()\u001b[0m\n\u001b[1;37m    ^\u001b[0m\n\u001b[1;31mIndentationError\u001b[0m\u001b[1;31m:\u001b[0m unexpected indent\n"
     ]
    }
   ],
   "source": [
    "# from simplemma import lemmatize\n",
    "# import pandas as pd\n",
    "\n",
    "# def swahili_lemmatize(word):\n",
    "#     \"\"\"\n",
    "#     Safely lemmatize a Swahili word using simplemma.\n",
    "#     Handles empty strings, NaN, and non-string inputs.\n",
    "#     \"\"\"\n",
    "#     # Handle NaN, None, or non-string\n",
    "#     if pd.isna(word):\n",
    "#         return \"\"\n",
    "    \n",
    "#     # Convert to string and strip\n",
    "#     word = str(word).strip()\n",
    "    \n",
    "#     # Skip empty strings\n",
    "#     if not word:\n",
    "#         return \"\"\n",
    "    \n",
    "#     try:\n",
    "#         return lemmatize(word, lang='sw')\n",
    "#     except Exception:\n",
    "        # Fallback: return original if simplemma fails\n",
    "      /"
   ]
  },
  {
   "cell_type": "code",
   "execution_count": null,
   "id": "0e89bb78-d2a7-499e-a2cd-a00305f8eab1",
   "metadata": {},
   "outputs": [],
   "source": [
    "# from simplemma import lemmatize\n",
    "# def swahili_lemmatize(word):\n",
    "#    return lemmatize(word, lang='sw')"
   ]
  },
  {
   "cell_type": "code",
   "execution_count": null,
   "id": "0bedc1b6-88fe-408d-8354-046b190d3114",
   "metadata": {},
   "outputs": [],
   "source": [
    "# df['lemmatized_text'] = df['clean_text'].apply(swahili_lemmatize)\n",
    "# df.head()"
   ]
  },
  {
   "cell_type": "code",
   "execution_count": null,
   "id": "ff082b1e-b4d1-4071-a540-5b678d9b443a",
   "metadata": {},
   "outputs": [],
   "source": []
  },
  {
   "cell_type": "code",
   "execution_count": null,
   "id": "00f0c57c-2565-4347-bff0-d4d06cf78032",
   "metadata": {},
   "outputs": [],
   "source": []
  },
  {
   "cell_type": "code",
   "execution_count": null,
   "id": "74afd830-5fb5-4093-ad20-25eb053313fe",
   "metadata": {},
   "outputs": [],
   "source": [
    "# def swahili_lemma(word):\n",
    "\n",
    "\n",
    "#     # Handle common relative or negation patterns\n",
    "#     word = re.sub(r'^(isiyo|siyo|isiy|si)', '', word)\n",
    "\n",
    "#     # Handle multiple tense/subject prefixes\n",
    "#     prefixes = [\n",
    "#         \"tutakuwa\", \"nitakuwa\", \"atakuw\", \"tutak\", \"nitak\", \"watak\", \"atak\",\n",
    "#         \"nilik\", \"tulik\", \"walik\", \"alik\", \"ulik\",\n",
    "#         \"ame\", \"ume\", \"tume\", \"wame\",\n",
    "#         \"nita\", \"tuta\", \"wata\", \"uta\", \"ata\", \"mta\",\n",
    "#         \"nili\", \"tuli\", \"wali\", \"uli\", \"ali\", \"mli\",\n",
    "#         \"ni\", \"u\", \"a\", \"tu\", \"m\", \"wa\", \"ku\", \"ki\", \"vi\", \"li\", \"ta\", \"zi\"\n",
    "#     ]\n",
    "#     for p in sorted(prefixes, key=len, reverse=True):\n",
    "#         if word.startswith(p) and len(word) > len(p) + 2:\n",
    "#             word = word[len(p):]\n",
    "#             break\n",
    "\n",
    "#     # Remove object infixes (common in Swahili verbs)\n",
    "#     # e.g. 'zikiniacha' → remove 'ni' (me)\n",
    "#     infixes = [\"ni\", \"ku\", \"wa\", \"m\", \"ki\", \"tu\", \"ji\"]\n",
    "#     for inf in infixes:\n",
    "#         word = re.sub(f\"{inf}(?=[aeiou])\", \"\", word)\n",
    "\n",
    "#     # Remove suffixes (avoid removing final 'a' of verb roots)\n",
    "#     suffixes = [\"isha\", \"esha\", \"ana\", \"eni\", \"eniwa\", \"iwa\", \"ewa\", \"wa\", \"ye\", \"ni\", \"ia\", \"sha\"]\n",
    "#     for s in sorted(suffixes, key=len, reverse=True):\n",
    "#         if word.endswith(s) and len(word) > len(s) + 2:\n",
    "#             word = word[:-len(s)]\n",
    "#             break\n",
    "\n",
    "#     # Clean remaining reduplications or contractions\n",
    "#     word = re.sub(r'[^a-z]', '', word)\n",
    "\n",
    "#     return word\n",
    "\n",
    "\n",
    "\n",
    "\n"
   ]
  },
  {
   "cell_type": "code",
   "execution_count": null,
   "id": "32e2e352-e195-41e4-b4c9-a3fac8ed58b2",
   "metadata": {},
   "outputs": [],
   "source": [
    "#example\n",
    "def swahili_lemma(word):\n",
    "    \"\"\"\n",
    "    Improved rule-based Swahili lemmatizer.\n",
    "\n",
    "    Key changes from earlier:\n",
    "    - We avoid stripping single-letter vowel endings (a, e, i, o, u),\n",
    "      because those are commonly part of the verb lemma (e.g., \"kula\", \"penda\").\n",
    "    - We still remove multiple prefixes and multi-letter suffixes.\n",
    "    - Longer affixes are removed first to avoid partial/ambiguous matches.\n",
    "    \"\"\"\n",
    "\n",
    "    # Normalize to lowercase for consistent matching\n",
    "    word = word.lower()\n",
    "\n",
    "    # Common Swahili prefixes (includes compound/tense forms).\n",
    "    prefixes = [\n",
    "        \"nitaku\", \"tutaku\", \"tutakuwa\" , \"nilik\", \"tulik\", \"walik\", \"alik\", \"ulik\",\n",
    "        \"nita\", \"tuta\", \"wata\", \"uta\", \"ata\", \"mta\",\"wana\",\n",
    "        \"nili\", \"tuli\", \"wali\", \"uli\", \"ali\", \"mli\",\n",
    "        \"ame\", \"ume\", \"tume\", \"wame\",\"tuna\",\n",
    "        \"ni\", \"u\", \"a\", \"tu\", \"m\", \"wa\", \"ku\", \"ki\", \"vi\", \"li\", \"ta\"\n",
    "    ]\n",
    "\n",
    "    # Suffixes: multi-letter endings we are willing to strip.\n",
    "    # NOTE: single-letter vowels 'a','e','i','o','u' are intentionally excluded,\n",
    "    # because they are often part of the lemma for Swahili verbs.\n",
    "    suffixes = [\n",
    "        \"isha\", \"esha\", \"ana\", \"eni\", \"eniwa\", \"wa\", \"ye\", \"ni\", \"io\", \"uo\", \"ku\", \"sha\"\n",
    "    ]\n",
    "\n",
    "    # Remove multiple prefixes:\n",
    "    prefix_removed = True\n",
    "    while prefix_removed:\n",
    "        prefix_removed = False\n",
    "        # sort by length desc to remove longer matches first (e.g., \"nilik\" before \"ni\")\n",
    "        for p in sorted(prefixes, key=len, reverse=True):\n",
    "            if word.startswith(p) and len(word) > len(p) + 2:\n",
    "                # strip the prefix\n",
    "                word = word[len(p):]\n",
    "                prefix_removed = True\n",
    "                break  # restart prefix scanning\n",
    "\n",
    "    # Remove multiple suffixes:\n",
    "    suffix_removed = True\n",
    "    while suffix_removed:\n",
    "        suffix_removed = False\n",
    "        # sort by length desc so we remove \"eniwa\" before \"wa\"\n",
    "        for s in sorted(suffixes, key=len, reverse=True):\n",
    "            if word.endswith(s) and len(word) > len(s) + 2:\n",
    "                # strip the suffix\n",
    "                word = word[:-len(s)]\n",
    "                suffix_removed = True\n",
    "                break  # restart suffix scanning\n",
    "\n",
    "    return word\n",
    "\n",
    "\n",
    "# ---------- Tests ----------\n",
    "words = [\n",
    "    \"wanacheza\",    # they play -> cheza\n",
    "    \"nilimpenda\",   # I loved him/her -> penda\n",
    "    \"watakula\",     # they will eat -> kula\n",
    "    \"tunapika\",     # we cook -> peka? (expected: peka/pika - note: rule-based approximations vary)\n",
    "    \"tumecheza\",    # we have played -> cheza\n",
    "    \"atakimbia\",    # he/she will run -> kimbia\n",
    "    \"tulipika\",     # we cooked -> peka/pika (should preserve final vowel)\n",
    "    \"niliwapenda\",  # I loved them -> penda\n",
    "    \"amefurahia\"    # he/she has enjoyed -> furahia\n",
    "]\n",
    "\n",
    "print({w: swahili_lemma(w) for w in words})"
   ]
  },
  {
   "cell_type": "code",
   "execution_count": null,
   "id": "4ddabfeb-dbf7-47da-9e73-5269a5e5e111",
   "metadata": {},
   "outputs": [],
   "source": []
  },
  {
   "cell_type": "code",
   "execution_count": null,
   "id": "8590cd7c-4a24-41d1-8daa-5441553dd6ab",
   "metadata": {},
   "outputs": [],
   "source": []
  },
  {
   "cell_type": "code",
   "execution_count": null,
   "id": "44bc2001-d7cc-4a0d-9047-b708c0e510ba",
   "metadata": {},
   "outputs": [],
   "source": []
  },
  {
   "cell_type": "code",
   "execution_count": null,
   "id": "11f61284-79bb-4b9d-b403-3431430f7970",
   "metadata": {},
   "outputs": [],
   "source": [
    "def swahili_lemma(word):\n",
    "    prefixes = [\"ni\", \"u\", \"a\", \"tu\", \"m\", \"wa\", \"ku\", \"ki\", \"vi\", \"li\", \"ta\"]\n",
    "    suffixes = [\"ni\", \"a\", \"wa\", \"ye\", \"tu\", \"eni\"]\n",
    "\n",
    "    for p in prefixes:\n",
    "        if word.startswith(p) and len(word) > len(p) + 2:\n",
    "            word = word[len(p):]\n",
    "            break\n",
    "\n",
    "    for s in suffixes:\n",
    "        if word.endswith(s) and len(word) > len(s) + 2:\n",
    "            word = word[:-len(s)]\n",
    "            break\n",
    "\n",
    "    return word\n",
    "\n",
    "words = [\"wanacheza\", \"nilimpenda\", \"watakula\", \"tunapika\"]\n",
    "print([swahili_lemma(w) for w in words])"
   ]
  },
  {
   "cell_type": "code",
   "execution_count": null,
   "id": "f8d7a51f-748a-4524-a9ca-94a58503ce50",
   "metadata": {},
   "outputs": [],
   "source": []
  },
  {
   "cell_type": "code",
   "execution_count": null,
   "id": "d3b0b129-0b05-4e79-85cb-5c35dd193864",
   "metadata": {},
   "outputs": [],
   "source": []
  },
  {
   "cell_type": "code",
   "execution_count": null,
   "id": "8fe181f5-df8a-4d36-b49a-9d79d2aea7e5",
   "metadata": {},
   "outputs": [],
   "source": []
  },
  {
   "cell_type": "code",
   "execution_count": null,
   "id": "e01f5176-8a89-42e6-9d3f-75a9f1fc6a1b",
   "metadata": {},
   "outputs": [],
   "source": [
    "!pip install stanza"
   ]
  },
  {
   "cell_type": "code",
   "execution_count": null,
   "id": "d3978e47-2d59-4932-9faa-21426a7c90f0",
   "metadata": {},
   "outputs": [],
   "source": [
    "stanza.download('sw')  # Download Swahili model"
   ]
  },
  {
   "cell_type": "code",
   "execution_count": null,
   "id": "2d3a8314-64cd-46c0-bcab-80180ea66ef3",
   "metadata": {},
   "outputs": [],
   "source": [
    "import stanza #multilingual NLP library from Stanford NLP that supports swahili.\n",
    "stanza.download('sw',model_dir='stanza_resources')\n",
    "nlp = stanza.Pipeline('sw', processors='pos')"
   ]
  },
  {
   "cell_type": "code",
   "execution_count": null,
   "id": "9a785bae-eab3-47fd-b953-f9df56301444",
   "metadata": {},
   "outputs": [],
   "source": [
    "import stanza.resources.common\n",
    "resources = stanza.resources.common.load_resources_json()\n",
    "print('English' in resources)  # Should print True if Swahili is supported"
   ]
  },
  {
   "cell_type": "code",
   "execution_count": null,
   "id": "1e550d36-953a-45bc-8bf7-bbe11b02e4cf",
   "metadata": {},
   "outputs": [],
   "source": [
    "# Download Swahili model\n",
    "try:\n",
    "    stanza.download('Swahili')  # Language code for Swahili\n",
    "except Exception as e:\n",
    "    print(f\"Error downloading Swahili model: {e}\")\n",
    "    raise\n",
    "\n",
    "# Initialize the Stanza pipeline for Swahili with POS processor\n",
    "try:\n",
    "    nlp = stanza.Pipeline(lang='Swahili', processors='tokenize,pos')\n",
    "    print(\"Pipeline initialized successfully!\")\n",
    "except Exception as e:\n",
    "    print(f\"Error initializing pipeline: {e}\")\n",
    "    raise"
   ]
  },
  {
   "cell_type": "code",
   "execution_count": null,
   "id": "3d2c6f43-5b7d-458e-94da-6b755471a771",
   "metadata": {},
   "outputs": [],
   "source": [
    "\n",
    "\n",
    "\n",
    "# Function to get POS tags\n",
    "def get_pos_tags(tokens):\n",
    "    if not isinstance(tokens, list) or not tokens:\n",
    "        return []\n",
    "    # Join tokens with spaces so Stanza treats each as a separate token\n",
    "    doc = nlp([tokens])\n",
    "    return [(w.text, w.upos) for s in doc.sentences for w in s.words]\n",
    "\n",
    "# Example: if df['cleaned_text_sw'] is tokenized (list of words)\n",
    "df['pos_tags'] = df['cleaned_text_sw'].apply(get_pos_tags)\n",
    "df.head()"
   ]
  },
  {
   "cell_type": "code",
   "execution_count": null,
   "id": "09ef61ad-d83d-4d34-839f-13440c2274dc",
   "metadata": {},
   "outputs": [],
   "source": []
  }
 ],
 "metadata": {
  "kernelspec": {
   "display_name": "Python [conda env:base] *",
   "language": "python",
   "name": "conda-base-py"
  },
  "language_info": {
   "codemirror_mode": {
    "name": "ipython",
    "version": 3
   },
   "file_extension": ".py",
   "mimetype": "text/x-python",
   "name": "python",
   "nbconvert_exporter": "python",
   "pygments_lexer": "ipython3",
   "version": "3.12.3"
  }
 },
 "nbformat": 4,
 "nbformat_minor": 5
}
