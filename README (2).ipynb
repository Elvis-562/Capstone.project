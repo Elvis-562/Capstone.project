{
 "cells": [
  {
   "cell_type": "markdown",
   "id": "e7356d01-6c5e-44f1-bc31-15107c458915",
   "metadata": {},
   "source": [
    "\n",
    "**Authors:**\n",
    "\n",
    "1. Elvis Wanjohi (Team Leader)\n",
    "\n",
    "2. Jessica Gichimu\n",
    "\n",
    "3. Jesse Ngugi\n",
    "\n",
    "4. Stephen Gachingu\n",
    "\n",
    "5. Latifa Riziki\n",
    "\n",
    "---\n",
    "\n",
    "## **1. Business Understanding**   \n",
    "\n",
    "### 1.1 Business Overview\n",
    "\n",
    "\n",
    "### 1.2 The Problem\n",
    "\n",
    "\n",
    "\n",
    "### 1.3 Project Objectives\n",
    "\n",
    "#### 1.3.1 Main Objective \n",
    "\n",
    "\n",
    "#### 1.3.2 Specific Objectives\n",
    "\n",
    "\n",
    "#### 1.3.3 Research Questions\n",
    "\n",
    "\n",
    "---\n",
    "\n",
    "### 1.4 Success Criteria  \n",
    "\n"
   ]
  },
  {
   "cell_type": "markdown",
   "id": "6f95da90-f55a-434d-b39f-f860dae46576",
   "metadata": {},
   "source": [
    "## **2. Data Understanding**\n"
   ]
  },
  {
   "cell_type": "markdown",
   "id": "fec321b7-2d10-4ba7-8c6f-3963bfb6dd03",
   "metadata": {},
   "source": [
    "## **3. Data Preparation**\n"
   ]
  },
  {
   "cell_type": "markdown",
   "id": "791b0d8b-0a12-444d-ae24-d1a04a1f67f0",
   "metadata": {},
   "source": [
    "## **4. Exploratory Data Analysis**"
   ]
  },
  {
   "cell_type": "markdown",
   "id": "6efdaad1-d3f3-4395-bebe-58ff2a2d02bc",
   "metadata": {},
   "source": [
    "## **5. Modelling and Evaluation**"
   ]
  },
  {
   "cell_type": "markdown",
   "id": "66e7f70e-f961-414c-97c0-a535828ff61b",
   "metadata": {},
   "source": [
    "## **6. Technologies Used**\n",
    "1. Python: Primary programming language\n",
    "2. Pandas: Data manipulation and analysis\n",
    "3. Sklearn: For modelling purposes\n",
    "4. Matplotlib: Data visualization\n",
    "5. Jupyter Notebook: Development environment\n",
    "6. Git: Commit and push to remote repository\n",
    "7. NLTK: For Natural Language Processing\n",
    "8. Plotly: To create interactive visualizations.\n",
    "9. Joblib and Pickle: To save the trained model."
   ]
  },
  {
   "cell_type": "markdown",
   "id": "f0967f99-f291-442c-9f7d-9d29f4a0a34b",
   "metadata": {},
   "source": [
    "## **7. Conclusion**."
   ]
  }
 ],
 "metadata": {
  "kernelspec": {
   "display_name": "Python 3 (ipykernel)",
   "language": "python",
   "name": "python3"
  },
  "language_info": {
   "codemirror_mode": {
    "name": "ipython",
    "version": 3
   },
   "file_extension": ".py",
   "mimetype": "text/x-python",
   "name": "python",
   "nbconvert_exporter": "python",
   "pygments_lexer": "ipython3",
   "version": "3.11.7"
  }
 },
 "nbformat": 4,
 "nbformat_minor": 5
}
