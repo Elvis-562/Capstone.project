{
 "cells": [
  {
   "cell_type": "markdown",
   "id": "15c38763",
   "metadata": {},
   "source": [
    "bearer_token= AAAAAAAAAAAAAAAAAAAAABFx5AEAAAAANsuqljufIDBctKEq6qsLXrVIVis%3DRjLXr3pgcDURzWjn549jxePEwIug0d4nZHzI0M1aUcfa7OGRLV"
   ]
  },
  {
   "cell_type": "code",
   "execution_count": 2,
   "id": "1bde11e5",
   "metadata": {},
   "outputs": [
    {
     "name": "stdout",
     "output_type": "stream",
     "text": [
      "None\n"
     ]
    }
   ],
   "source": [
    "import os\n",
    "print(os.getenv(\"BEARER_TOKEN\"))\n"
   ]
  },
  {
   "cell_type": "code",
   "execution_count": 7,
   "id": "73323c66",
   "metadata": {},
   "outputs": [
    {
     "name": "stdout",
     "output_type": "stream",
     "text": [
      "@CrazyVibes_1 God Almighty bless the miracle of cure and healthy long life to you\n",
      "And each living being facing physical and mental health challenges and diseases\n",
      "Amen\n",
      "RT @propublica: Judge Andrew Oldham sounded frustrated by the UnitedHealthcare lawyer arguing 15-year-old Emily Dwyer no longer needed resi…\n",
      "@/FCBarcelona you'll pay for your crimes against my mental health someday\n",
      "RT @neatprompts: This guy literally dropped the smartest mental health advice you’ll ever hear https://t.co/WhL6vR6FVj\n",
      "RT @CasstielJeon: This  PARTs is SICK!! HIS TATTOOS! His abs… JEON JUNGKOOK outdid himself. This is detrimental to my mental and physical h…\n",
      "RT @riadyuu: Dustin speaks up about the online bashing — a powerful reminder of how important mental health truly is. \n",
      "\n",
      "Words have weight,…\n",
      "RT @Jainbino: mental health check in🩷 \n",
      "\n",
      "mental health tip i use to help elevate my mental well-being: deep cleaning, taking a bubble bath,…\n",
      "meditation sup💐ports a balanced life. It boosts mental clarity through plant-based meals. Exp🌟erts suggest starting 🌈small for impact. Small steps lead to lasting health benefits. Experts suggest starting small for impact. https://t.co/BLih11zSPU\n",
      "RT @CasstielJeon: This  PARTs is SICK!! HIS TATTOOS! His abs… JEON JUNGKOOK outdid himself. This is detrimental to my mental and physical h…\n",
      "RT @aglaeadoods: Never forget to take care of your mental health!\n",
      "#cipher #mydei #phainon #aglaea https://t.co/7VgVXLfJ3O\n"
     ]
    }
   ],
   "source": [
    "import os\n",
    "import tweepy\n",
    "\n",
    "bearer_token = \"AAAAAAAAAAAAAAAAAAAAABFx5AEAAAAANsuqljufIDBctKEq6qsLXrVIVis%3DRjLXr3pgcDURzWjn549jxePEwIug0d4nZHzI0M1aUcfa7OGRLV\"\n",
    "\n",
    "client = tweepy.Client(bearer_token=bearer_token)\n",
    "\n",
    "tweets = client.search_recent_tweets(query=\"mental health\", max_results=10)\n",
    "for tweet in tweets.data:\n",
    "    print(tweet.text)\n"
   ]
  },
  {
   "cell_type": "code",
   "execution_count": 8,
   "id": "93b95762",
   "metadata": {},
   "outputs": [
    {
     "data": {
      "text/plain": [
       "Response(data=[<Tweet id=1983533568489140624 text='@CrazyVibes_1 God Almighty bless the miracle of cure and healthy long life to you\\nAnd each living being facing physical and mental health challenges and diseases\\nAmen'>, <Tweet id=1983533562549723331 text='RT @propublica: Judge Andrew Oldham sounded frustrated by the UnitedHealthcare lawyer arguing 15-year-old Emily Dwyer no longer needed resi…'>, <Tweet id=1983533552361713674 text=\"@/FCBarcelona you'll pay for your crimes against my mental health someday\">, <Tweet id=1983533546011869477 text='RT @neatprompts: This guy literally dropped the smartest mental health advice you’ll ever hear https://t.co/WhL6vR6FVj'>, <Tweet id=1983533532904583569 text='RT @CasstielJeon: This  PARTs is SICK!! HIS TATTOOS! His abs… JEON JUNGKOOK outdid himself. This is detrimental to my mental and physical h…'>, <Tweet id=1983533529888932033 text='RT @riadyuu: Dustin speaks up about the online bashing — a powerful reminder of how important mental health truly is. \\n\\nWords have weight,…'>, <Tweet id=1983533521693179987 text='RT @Jainbino: mental health check in🩷 \\n\\nmental health tip i use to help elevate my mental well-being: deep cleaning, taking a bubble bath,…'>, <Tweet id=1983533516299391435 text='meditation sup💐ports a balanced life. It boosts mental clarity through plant-based meals. Exp🌟erts suggest starting 🌈small for impact. Small steps lead to lasting health benefits. Experts suggest starting small for impact. https://t.co/BLih11zSPU'>, <Tweet id=1983533515913469986 text='RT @CasstielJeon: This  PARTs is SICK!! HIS TATTOOS! His abs… JEON JUNGKOOK outdid himself. This is detrimental to my mental and physical h…'>, <Tweet id=1983533512339661153 text='RT @aglaeadoods: Never forget to take care of your mental health!\\n#cipher #mydei #phainon #aglaea https://t.co/7VgVXLfJ3O'>], includes={}, errors=[], meta={'newest_id': '1983533568489140624', 'oldest_id': '1983533512339661153', 'result_count': 10, 'next_token': 'b26v89c19zqg8o3fsck60o1dn5l67olgp2vbcnerygpkt'})"
      ]
     },
     "execution_count": 8,
     "metadata": {},
     "output_type": "execute_result"
    }
   ],
   "source": [
    "tweets"
   ]
  },
  {
   "cell_type": "code",
   "execution_count": 1,
   "id": "40e37b5e",
   "metadata": {},
   "outputs": [],
   "source": [
    "import pandas as pd"
   ]
  },
  {
   "cell_type": "code",
   "execution_count": 2,
   "id": "b7ed6e7f",
   "metadata": {},
   "outputs": [
    {
     "data": {
      "text/html": [
       "<div>\n",
       "<style scoped>\n",
       "    .dataframe tbody tr th:only-of-type {\n",
       "        vertical-align: middle;\n",
       "    }\n",
       "\n",
       "    .dataframe tbody tr th {\n",
       "        vertical-align: top;\n",
       "    }\n",
       "\n",
       "    .dataframe thead th {\n",
       "        text-align: right;\n",
       "    }\n",
       "</style>\n",
       "<table border=\"1\" class=\"dataframe\">\n",
       "  <thead>\n",
       "    <tr style=\"text-align: right;\">\n",
       "      <th></th>\n",
       "      <th>text_sw</th>\n",
       "      <th>lemmatized_text</th>\n",
       "    </tr>\n",
       "  </thead>\n",
       "  <tbody>\n",
       "    <tr>\n",
       "      <th>0</th>\n",
       "      <td>\"Akili yangu ni hali isiyobadilika ya wasiwasi...</td>\n",
       "      <td>\" Akili yangu ni hali isiyo badilika ya msiwas...</td>\n",
       "    </tr>\n",
       "    <tr>\n",
       "      <th>1</th>\n",
       "      <td>Licha ya jua kung'aa na ndege wakiimba nje ya ...</td>\n",
       "      <td>Licha ya jua kung ' aa na ndege waki imba nje ...</td>\n",
       "    </tr>\n",
       "    <tr>\n",
       "      <th>2</th>\n",
       "      <td>Mimi ninalemewa na madaraka, kila mmoja akitak...</td>\n",
       "      <td>Mimi nina leme wa na daraka , kila mmoja aki t...</td>\n",
       "    </tr>\n",
       "    <tr>\n",
       "      <th>3</th>\n",
       "      <td>\"Hisia zangu hubadilika kama upepo, zikiniacha...</td>\n",
       "      <td>\" Hisia zangu hu badilika kama upepo , zikini ...</td>\n",
       "    </tr>\n",
       "    <tr>\n",
       "      <th>4</th>\n",
       "      <td>Nimenaswa na mawazo mengi sana, nashindwa kuka...</td>\n",
       "      <td>Nime nas wa na wazo mengi sana , na shindwa ku...</td>\n",
       "    </tr>\n",
       "  </tbody>\n",
       "</table>\n",
       "</div>"
      ],
      "text/plain": [
       "                                             text_sw  \\\n",
       "0  \"Akili yangu ni hali isiyobadilika ya wasiwasi...   \n",
       "1  Licha ya jua kung'aa na ndege wakiimba nje ya ...   \n",
       "2  Mimi ninalemewa na madaraka, kila mmoja akitak...   \n",
       "3  \"Hisia zangu hubadilika kama upepo, zikiniacha...   \n",
       "4  Nimenaswa na mawazo mengi sana, nashindwa kuka...   \n",
       "\n",
       "                                     lemmatized_text  \n",
       "0  \" Akili yangu ni hali isiyo badilika ya msiwas...  \n",
       "1  Licha ya jua kung ' aa na ndege waki imba nje ...  \n",
       "2  Mimi nina leme wa na daraka , kila mmoja aki t...  \n",
       "3  \" Hisia zangu hu badilika kama upepo , zikini ...  \n",
       "4  Nime nas wa na wazo mengi sana , na shindwa ku...  "
      ]
     },
     "execution_count": 2,
     "metadata": {},
     "output_type": "execute_result"
    }
   ],
   "source": [
    "lemmatized = pd.read_csv(\"hf_pos_lemmatized.csv\")\n",
    "lemmatized.head()"
   ]
  },
  {
   "cell_type": "code",
   "execution_count": 3,
   "id": "ee365b87",
   "metadata": {},
   "outputs": [
    {
     "data": {
      "text/plain": [
       "(15320, 2)"
      ]
     },
     "execution_count": 3,
     "metadata": {},
     "output_type": "execute_result"
    }
   ],
   "source": [
    "lemmatized.shape"
   ]
  },
  {
   "cell_type": "code",
   "execution_count": 4,
   "id": "52c5fb42",
   "metadata": {},
   "outputs": [
    {
     "data": {
      "text/html": [
       "<div>\n",
       "<style scoped>\n",
       "    .dataframe tbody tr th:only-of-type {\n",
       "        vertical-align: middle;\n",
       "    }\n",
       "\n",
       "    .dataframe tbody tr th {\n",
       "        vertical-align: top;\n",
       "    }\n",
       "\n",
       "    .dataframe thead th {\n",
       "        text-align: right;\n",
       "    }\n",
       "</style>\n",
       "<table border=\"1\" class=\"dataframe\">\n",
       "  <thead>\n",
       "    <tr style=\"text-align: right;\">\n",
       "      <th></th>\n",
       "      <th>status</th>\n",
       "      <th>text_sw</th>\n",
       "      <th>clean_text</th>\n",
       "      <th>lemmatized_text</th>\n",
       "    </tr>\n",
       "  </thead>\n",
       "  <tbody>\n",
       "    <tr>\n",
       "      <th>0</th>\n",
       "      <td>anxiety</td>\n",
       "      <td>\"akili yangu ni hali isiyobadilika ya wasiwasi...</td>\n",
       "      <td>akili hali isiyobadilika wasiwasi kazi rahisi ...</td>\n",
       "      <td>akili hali isiyo badilika wasiwasi kazi rahisi...</td>\n",
       "    </tr>\n",
       "    <tr>\n",
       "      <th>1</th>\n",
       "      <td>bipolar</td>\n",
       "      <td>licha ya jua kung'aa na ndege wakiimba nje ya ...</td>\n",
       "      <td>licha jua kungaa ndege wakiimba nje dirisha la...</td>\n",
       "      <td>licha jua kungaa ndege waki imba nje dirisha l...</td>\n",
       "    </tr>\n",
       "    <tr>\n",
       "      <th>2</th>\n",
       "      <td>stress</td>\n",
       "      <td>mimi ninalemewa na madaraka, kila mmoja akitak...</td>\n",
       "      <td>ninalemewa madaraka akitaka uangalifu wangu na...</td>\n",
       "      <td>na leme wa daraka aki taka uangalifu wangu  ho...</td>\n",
       "    </tr>\n",
       "    <tr>\n",
       "      <th>3</th>\n",
       "      <td>personality disorder</td>\n",
       "      <td>\"hisia zangu hubadilika kama upepo, zikiniacha...</td>\n",
       "      <td>hisia zangu hubadilika upepo zikiniacha nikiwa...</td>\n",
       "      <td>hisia zangu hu badilika upepo ziki acha  kiwa ...</td>\n",
       "    </tr>\n",
       "    <tr>\n",
       "      <th>4</th>\n",
       "      <td>anxiety</td>\n",
       "      <td>nimenaswa na mawazo mengi sana, nashindwa kuka...</td>\n",
       "      <td>nimenaswa mawazo mengi nashindwa kukazia fikir...</td>\n",
       "      <td>me nas wa wazo mengi shind kukazia fikira kitu...</td>\n",
       "    </tr>\n",
       "  </tbody>\n",
       "</table>\n",
       "</div>"
      ],
      "text/plain": [
       "                 status                                            text_sw  \\\n",
       "0               anxiety  \"akili yangu ni hali isiyobadilika ya wasiwasi...   \n",
       "1               bipolar  licha ya jua kung'aa na ndege wakiimba nje ya ...   \n",
       "2                stress  mimi ninalemewa na madaraka, kila mmoja akitak...   \n",
       "3  personality disorder  \"hisia zangu hubadilika kama upepo, zikiniacha...   \n",
       "4               anxiety  nimenaswa na mawazo mengi sana, nashindwa kuka...   \n",
       "\n",
       "                                          clean_text  \\\n",
       "0  akili hali isiyobadilika wasiwasi kazi rahisi ...   \n",
       "1  licha jua kungaa ndege wakiimba nje dirisha la...   \n",
       "2  ninalemewa madaraka akitaka uangalifu wangu na...   \n",
       "3  hisia zangu hubadilika upepo zikiniacha nikiwa...   \n",
       "4  nimenaswa mawazo mengi nashindwa kukazia fikir...   \n",
       "\n",
       "                                     lemmatized_text  \n",
       "0  akili hali isiyo badilika wasiwasi kazi rahisi...  \n",
       "1  licha jua kungaa ndege waki imba nje dirisha l...  \n",
       "2  na leme wa daraka aki taka uangalifu wangu  ho...  \n",
       "3  hisia zangu hu badilika upepo ziki acha  kiwa ...  \n",
       "4  me nas wa wazo mengi shind kukazia fikira kitu...  "
      ]
     },
     "execution_count": 4,
     "metadata": {},
     "output_type": "execute_result"
    }
   ],
   "source": [
    "batch1 = pd.read_csv(\"lemmatized_partial_1.csv\")\n",
    "batch1.head()"
   ]
  },
  {
   "cell_type": "code",
   "execution_count": null,
   "id": "d8434728",
   "metadata": {},
   "outputs": [],
   "source": []
  }
 ],
 "metadata": {
  "kernelspec": {
   "display_name": "base",
   "language": "python",
   "name": "python3"
  },
  "language_info": {
   "codemirror_mode": {
    "name": "ipython",
    "version": 3
   },
   "file_extension": ".py",
   "mimetype": "text/x-python",
   "name": "python",
   "nbconvert_exporter": "python",
   "pygments_lexer": "ipython3",
   "version": "3.12.7"
  }
 },
 "nbformat": 4,
 "nbformat_minor": 5
}
